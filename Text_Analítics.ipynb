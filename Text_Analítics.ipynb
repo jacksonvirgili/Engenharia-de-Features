{
  "cells": [
    {
      "cell_type": "markdown",
      "source": [
        "# Bibliotecas"
      ],
      "metadata": {
        "id": "fQYm9o67ew4-"
      }
    },
    {
      "cell_type": "markdown",
      "source": [
        "## Instalação\n",
        "\n"
      ],
      "metadata": {
        "id": "Of-8w80TekrE"
      }
    },
    {
      "cell_type": "markdown",
      "source": [
        "* Modelo de PLN Spacy para o idioma Português"
      ],
      "metadata": {
        "id": "d4iYr405hFY5"
      }
    },
    {
      "cell_type": "code",
      "source": [
        "!python -m spacy download pt_core_news_sm"
      ],
      "metadata": {
        "id": "RF8iX67M8QO_"
      },
      "execution_count": null,
      "outputs": []
    },
    {
      "cell_type": "markdown",
      "source": [
        "* Biblioteca para Manipulação Planilhas de Excel"
      ],
      "metadata": {
        "id": "5CNyC9SesfyB"
      }
    },
    {
      "cell_type": "code",
      "execution_count": null,
      "metadata": {
        "collapsed": true,
        "id": "98grrCmQ_Le2"
      },
      "outputs": [],
      "source": [
        "!pip install openpyxl"
      ]
    },
    {
      "cell_type": "markdown",
      "source": [
        "## Importação"
      ],
      "metadata": {
        "id": "ev4wTI3se2Ut"
      }
    },
    {
      "cell_type": "code",
      "execution_count": 107,
      "metadata": {
        "id": "eTVjmHKL_Ojg"
      },
      "outputs": [],
      "source": [
        "# Manipulação df\n",
        "import pandas as pd\n",
        "import numpy as np\n",
        "\n",
        "# Manipulação texto\n",
        "import re\n",
        "import unicodedata\n",
        "\n",
        "# Contagem de tokens\n",
        "from collections import Counter\n",
        "\n",
        "# Modelo Manipulação PLN\n",
        "import nltk\n",
        "from nltk.tokenize import word_tokenize\n",
        "\n",
        "# Modelo PLN\n",
        "import spacy\n",
        "from spacy.lang.pt import Portuguese\n",
        "\n",
        "# Manipulação de Arquivos no Colab\n",
        "from google.colab import files\n",
        "\n"
      ]
    },
    {
      "cell_type": "markdown",
      "source": [
        "# Upload"
      ],
      "metadata": {
        "id": "5kZCih_GhYDp"
      }
    },
    {
      "cell_type": "code",
      "execution_count": null,
      "metadata": {
        "collapsed": true,
        "id": "B9pG2MEd_aDv"
      },
      "outputs": [],
      "source": [
        "df = files.upload()"
      ]
    },
    {
      "cell_type": "markdown",
      "source": [
        "# Fluxo de Tratamento (EXEC)"
      ],
      "metadata": {
        "id": "RS0hF62m5yJN"
      }
    },
    {
      "cell_type": "code",
      "execution_count": 145,
      "metadata": {
        "id": "oabMt8Y2DAdm"
      },
      "outputs": [],
      "source": [
        "df = pd.read_excel('MOTIVOS.xlsx')"
      ]
    },
    {
      "cell_type": "markdown",
      "source": [
        "* Limpeza de texto com regex:\n",
        "\n",
        "  - No sistema, o campo observações possui escritar livre. Portanto, não existe nenhum para para que possa ser filtrado.\n",
        "\n",
        "  - Foi observado que, geralmente, o principal motivo é descrito nas primeiras duas frases.\n",
        "\n",
        "  - Dentro do que foi observado, utilizamos regex para realizar a primeira etapa limpeza e padronização do texto."
      ],
      "metadata": {
        "id": "XSV75DrEBAng"
      }
    },
    {
      "cell_type": "code",
      "source": [
        "def Limpeza_Regex(texto):\n",
        "  # tira acentos\n",
        "  texto = unicodedata.normalize('NFD', texto)\n",
        "  texto = texto.encode('ascii', 'ignore').decode('utf-8', 'ignore')\n",
        "\n",
        "  # lower case\n",
        "  texto = texto.lower()\n",
        "\n",
        "  # remove todos os asteriscos\n",
        "  texto = re.sub(r'\\*+', '', texto)\n",
        "\n",
        "  # remove todos os '>'\n",
        "  texto = re.sub(r'\\>+', '', texto)\n",
        "\n",
        "  # remove quebras de linha do início\n",
        "  texto = re.sub(r'^(\\s*(_x000d_|\\n))+', '', texto)\n",
        "\n",
        "    # tratamento especial para o padrão \"_x000D_\\n_x000D_\\n\"\n",
        "  if re.search(r'_x000d_\\s*_x000d_\\s*', texto):\n",
        "      # remove o \"_x000d_\" e espaços extras\n",
        "      texto = re.sub(r'_x000d_\\s*_x000d_\\s*', ' ', texto)\n",
        "      # mantém só até a primeira quebra de linha depois disso\n",
        "      texto = texto.split('\\n')[0]\n",
        "  else:\n",
        "      # separa por quebras de linha normalmente\n",
        "      texto = re.split(r'\\n', texto, maxsplit=2)\n",
        "      texto = '\\n'.join(texto[:2])\n",
        "\n",
        "  # remove códigos tipo _x000d_\n",
        "  texto = re.sub(r'_x000d_', '', texto)\n",
        "\n",
        "  # remove quebras de linha no início e no fim\n",
        "  texto = texto.strip()\n",
        "\n",
        "  # remove espaços extras\n",
        "  texto = re.sub(r'\\s+', ' ', texto).strip()\n",
        "\n",
        "  return texto\n"
      ],
      "metadata": {
        "id": "nrO0mnBb8xlT"
      },
      "execution_count": 146,
      "outputs": []
    },
    {
      "cell_type": "code",
      "execution_count": 147,
      "metadata": {
        "id": "ssEcEg6zGfzf"
      },
      "outputs": [],
      "source": [
        "df['Limpeza_Regex'] = df['obs'].fillna('').apply(lambda x: Limpeza_Regex(x))"
      ]
    },
    {
      "cell_type": "markdown",
      "source": [
        "* Stop Words\n",
        "\n",
        "  -   Objeto com lista de que não possuem significado na frase (stop_words)\n"
      ],
      "metadata": {
        "id": "WpsZZu5GrESB"
      }
    },
    {
      "cell_type": "code",
      "source": [
        "stop_words = spacy.lang.pt.stop_words.STOP_WORDS"
      ],
      "metadata": {
        "id": "PCrQzB2DBmfJ"
      },
      "execution_count": 148,
      "outputs": []
    },
    {
      "cell_type": "code",
      "source": [
        "def no_stopwords(texto):\n",
        "  doc = nlp_pt(texto)\n",
        "  return \" \".join(x.text for x in doc if x.text not in stop_words)"
      ],
      "metadata": {
        "id": "hnxKttjIBrQJ"
      },
      "execution_count": 149,
      "outputs": []
    },
    {
      "cell_type": "markdown",
      "source": [
        "* Lemmatization\n",
        "\n",
        "  - Retorna as palavras a sua forma base, respeitando gramática e contexto"
      ],
      "metadata": {
        "id": "bihAUzp_6-q4"
      }
    },
    {
      "cell_type": "code",
      "source": [
        "# carrega modelo pré treinado Spacy para Português\n",
        "nlp_pt = spacy.load('pt_core_news_sm')"
      ],
      "metadata": {
        "id": "FoJitYgorErn"
      },
      "execution_count": 150,
      "outputs": []
    },
    {
      "cell_type": "code",
      "source": [
        "def lemmatization(texto):\n",
        "  doc = nlp_pt(texto)\n",
        "  return ' '.join([token.lemma_ for token in doc])"
      ],
      "metadata": {
        "id": "yaGy5q9e56Ou"
      },
      "execution_count": 151,
      "outputs": []
    },
    {
      "cell_type": "markdown",
      "source": [
        "* Applying"
      ],
      "metadata": {
        "id": "keCMidBytPnR"
      }
    },
    {
      "cell_type": "code",
      "source": [
        "df['no_stopwords'] = df['Limpeza_Regex'].apply( lambda x: no_stopwords(x))"
      ],
      "metadata": {
        "id": "v26AUpxVBx8B",
        "collapsed": true
      },
      "execution_count": 152,
      "outputs": []
    },
    {
      "cell_type": "code",
      "source": [
        "df['lemmatization'] = df['no_stopwords'].apply( lambda x: lemmatization(x))"
      ],
      "metadata": {
        "id": "IEMF8BH57Xi3"
      },
      "execution_count": 153,
      "outputs": []
    },
    {
      "cell_type": "markdown",
      "source": [
        "* Segunda limpeza\n",
        "\n",
        "  - tirando palavras frequentes que não agregam significado, acentos e excesso de espaços."
      ],
      "metadata": {
        "id": "XJablAXeLCG4"
      }
    },
    {
      "cell_type": "code",
      "source": [
        "def Limpeza_Regex2(texto):\n",
        "\n",
        "  # excluir palavra enviar\n",
        "  texto = re.sub(r'enviar', '', texto)\n",
        "\n",
        "  # excluir word 'anexar'\n",
        "  texto = re.sub(r'anexar', '', texto)\n",
        "\n",
        "  # excluir word 'prezar'\n",
        "  texto = re.sub(r'prezar', '', texto)\n",
        "\n",
        "  # excluir simbolo '/'\n",
        "  texto = re.sub(r'/', '', texto)\n",
        "\n",
        "  # excluir simbolo ':'\n",
        "  texto = re.sub(r':', '', texto)\n",
        "\n",
        "  # excluir simbolo ','\n",
        "  texto = re.sub(r',', '', texto)\n",
        "\n",
        "  # remover espaços duplos ou mais\n",
        "  texto = re.sub(r'\\s{2,}', ' ', texto)\n",
        "\n",
        "  # substituir '-'\n",
        "  texto = re.sub(r'-', ' ', texto)\n",
        "\n",
        "  return texto"
      ],
      "metadata": {
        "id": "FmqWKgrDf95L"
      },
      "execution_count": 154,
      "outputs": []
    },
    {
      "cell_type": "code",
      "source": [
        "df['Limpeza_Regex2'] = df['lemmatization'].apply( lambda x: Limpeza_Regex2(x))"
      ],
      "metadata": {
        "id": "Ir3UZo-Ziylb"
      },
      "execution_count": 155,
      "outputs": []
    },
    {
      "cell_type": "markdown",
      "source": [
        "## Estatísticas de texto"
      ],
      "metadata": {
        "id": "IqpLE2uuTGwn"
      }
    },
    {
      "cell_type": "markdown",
      "source": [
        "* Frequencia de frase texto:\n",
        "\n",
        "  - Quantas vezes repetiu texto inteiro com o mesmo valor"
      ],
      "metadata": {
        "id": "W_sWNze1OreG"
      }
    },
    {
      "cell_type": "markdown",
      "source": [
        "### Frequencia de tokens com N-Grams"
      ],
      "metadata": {
        "id": "e4ENojA3GUFM"
      }
    },
    {
      "cell_type": "markdown",
      "source": [
        "* Processamento de tokens"
      ],
      "metadata": {
        "id": "GRMQkpn7W0uR"
      }
    },
    {
      "cell_type": "code",
      "source": [
        "words = \" \".join(df['Limpeza_Regex2'])"
      ],
      "metadata": {
        "id": "j2KWaCF_GWCU"
      },
      "execution_count": 156,
      "outputs": []
    },
    {
      "cell_type": "markdown",
      "source": [
        "* Tokenizador pré treinado do nltk"
      ],
      "metadata": {
        "id": "F8lyFoPFTy1P"
      }
    },
    {
      "cell_type": "code",
      "source": [
        "nltk.download('punkt_tab')"
      ],
      "metadata": {
        "colab": {
          "base_uri": "https://localhost:8080/"
        },
        "id": "GXymrv5QHI81",
        "outputId": "b426b1fe-e6d6-4c41-eff3-2baeb0065955"
      },
      "execution_count": 157,
      "outputs": [
        {
          "output_type": "stream",
          "name": "stderr",
          "text": [
            "[nltk_data] Downloading package punkt_tab to /root/nltk_data...\n",
            "[nltk_data]   Package punkt_tab is already up-to-date!\n"
          ]
        },
        {
          "output_type": "execute_result",
          "data": {
            "text/plain": [
              "True"
            ]
          },
          "metadata": {},
          "execution_count": 157
        }
      ]
    },
    {
      "cell_type": "markdown",
      "source": [
        "* Separa o texto em tokens"
      ],
      "metadata": {
        "id": "ycdStkrWWj_4"
      }
    },
    {
      "cell_type": "code",
      "source": [
        "tokens = word_tokenize(words)"
      ],
      "metadata": {
        "id": "-Iymq7W3Gvse"
      },
      "execution_count": 158,
      "outputs": []
    },
    {
      "cell_type": "markdown",
      "source": [
        "* Unigrams"
      ],
      "metadata": {
        "id": "uogtF0ipT8fR"
      }
    },
    {
      "cell_type": "code",
      "source": [
        "unigrams = nltk.ngrams(tokens, 1)"
      ],
      "metadata": {
        "id": "qHzoaKAxT78a"
      },
      "execution_count": 159,
      "outputs": []
    },
    {
      "cell_type": "code",
      "source": [
        "print(Counter(unigrams).most_common(50))"
      ],
      "metadata": {
        "colab": {
          "base_uri": "https://localhost:8080/"
        },
        "id": "WwW8Yg4HRhIB",
        "outputId": "7cc479c9-1433-45ce-ec1a-d14fc6911ffa"
      },
      "execution_count": 160,
      "outputs": [
        {
          "output_type": "stream",
          "name": "stdout",
          "text": [
            "[(('video',), 13647), (('.',), 11722), (('extrato',), 10290), (('valor',), 9407), (('confirmar',), 4958), (('comprovante',), 4157), (('af',), 4078), (('documento',), 4006), (('$',), 3980), (('R',), 3945), (('cliente',), 3491), (('alteracao',), 3470), (('ok',), 3306), (('nao',), 3151), ((';',), 3099), (('seguir',), 2997), (('identificacao',), 2896), (('pmt',), 2870), (('12x',), 2845), (('print',), 2772), (('conforme',), 2736), (('contrato',), 2613), (('cred',), 2584), (('app',), 2436), (('pdf',), 2372), (('anexo',), 2330), (('pix',), 2263), (('master',), 1948), (('dia',), 1822), (('informacao',), 1747), (('saldo',), 1698), (('contar',), 1499), (('script',), 1456), (('validar',), 1400), (('detalhamento',), 1388), (('pendente',), 1384), (('validacao',), 1347), (('constar',), 1310), (('audio',), 1268), (('senhar',), 1250), (('vlr',), 1230), (('8x',), 1185), (('=',), 1176), (('proximo',), 1162), (('ctt',), 1156), (('3',), 1147), (('dado',), 1122), (('ultimo',), 1083), (('limite',), 1073), (('beneficio',), 1056), (('atualizar',), 1023), (('analisar',), 1018), (('Confirmacoes',), 1006), (('caixa',), 983), (('frente',), 977), (('prazo',), 968), (('sujeito',), 926), (('analise',), 921), (('reprovacao',), 919), (('completo',), 918), (('verso',), 903), (('mes',), 891), (('data',), 890), (('``',), 881), (('abaixo',), 866), (('padrao',), 852), (('in100',), 840), (('crefisar',), 838), (('hiscon',), 838), (('operacao',), 830), (('pdfer',), 828), (('inss',), 816), (('parcela',), 814), (('12',), 809), (('(',), 804), (('atual',), 804), ((')',), 800), (('copia',), 777), (('pendencia',), 774), (('ted',), 772), (('referente',), 763), (('aprovacao',), 745), (('especial',), 728), (('cheque',), 708), (('aceito',), 706), (('recebimento',), 687), (('incorreto',), 676), (('correta',), 655), (('mediante',), 654), (('qrcod',), 628), (('junto',), 627), (('boleto',), 625), (('bmg',), 604), (('bancario',), 577), (('margem',), 576), (('barro',), 574), (('visivel',), 566), (('dcb',), 541), (('informar',), 536), (('legivel',), 527), (('possuir',), 522), (('beneficiario',), 491), (('dar',), 486), (('correto',), 482), (('codigo',), 475), (('50001',), 471), (('formalizacao',), 467), (('login',), 437), (('via',), 435), (('poderar',), 431), (('Simulador',), 431), (('pessoal',), 421), (('juntamente',), 415), (('telo',), 415), (('ate',), 407), (('corte',), 393), (('verificar',), 392), (('selfie',), 392), (('negativo',), 385), (('senha',), 384), (('arquivo',), 380), (('pag',), 375), (('alteracoes',), 373), (('numero',), 373), (('precisar',), 362), (('simulador',), 362), (('pagamento',), 355), (('ser',), 348), (('emprestimo',), 345), (('compartilhamento',), 344), (('8',), 340), (('gentileza',), 336), (('banco',), 336), (('conseguir',), 335), (('gerar',), 324), (('validacoes',), 320), (('ativo',), 301), (('eletronico',), 297), (('atendente',), 297), (('dataprev',), 293), (('ultimos',), 289), (('retorno',), 284), (('movimentacoes',), 282), (('50000',), 278), (('igual',), 277), (('receber',), 277), (('tela',), 256), (('rogo',), 255), (('foto',), 250), (('credito',), 250), (('sujeitar',), 246), (('diretamente',), 242), (('ajustado',), 239), (('daycoval',), 239), (('conferencia',), 237), (('gravacao',), 237), (('ref',), 236), (('disponivel',), 234), (('100001',), 233), (('util',), 233), (('ultima',), 229), (('proposta',), 223), (('operacional',), 221), (('divergente',), 220), (('20000',), 217), (('imagem',), 216), (('c',), 214), (('tabela',), 212), (('ver',), 209), (('julho',), 209), (('dezembro',), 207), (('verificacao',), 207), (('renda',), 205), (('movimentacao',), 205), (('conta',), 205), (('pess',), 205), (('24257',), 198), (('original',), 196), (('podera',), 195), (('50003',), 194), (('confirmacao',), 193), (('hoje',), 191), (('debito',), 191), (('sanar',), 191), (('doc',), 190), (('poder',), 188), (('representante',), 187), (('225',), 187), (('janeiro',), 186), (('realizar',), 186), (('desconto',), 186), (('devido',), 186), (('ouve',), 185), (('agencia',), 183), (('anterior',), 183), (('apo',), 182), (('atraso',), 181), (('Anexo',), 180), (('terceiro',), 179), (('qualidade',), 178), (('refin',), 178), (('loja',), 177), (('necessario',), 177), (('morar',), 177), (('qrcode',), 175), (('possar',), 175), (('digito',), 175), (('cancelamento',), 174), (('inativo',), 173), (('<',), 172), (('caso',), 171), (('alterar',), 171), (('solicitar',), 170), (('agosto',), 169), (('identidade',), 169), (('continuar',), 166), (('agregar',), 166), (('Banco',), 163), (('confirmacoes',), 163), (('cod',), 163), (('historico',), 162), (('bruno',), 159), (('nome',), 158), (('a.c',), 158), (('datar',), 157), (('junho',), 157), (('af=',), 157), (('considerar',), 156), (('calculo',), 154), (('liquido',), 153), (('Cortes',), 151), (('100000',), 151), (('vigente',), 151), (('regrar',), 149), (('qr',), 148), (('abrir',), 148), (('17384',), 148), (('coder',), 144), (('inaudivel',), 143), (('migracao',), 142), (('1.00001',), 140), (('autorizacao',), 139), (('abril',), 138), (('marco',), 137), (('andamento',), 137), (('comp',), 137), (('periodo',), 135), (('setembro',), 134), (('2',), 133), (('Valores',), 132), (('fevereiro',), 129), (('30000',), 129), (('validade',), 128), (('cpf',), 127), (('maio',), 125), (('possivel',), 124), (('ja',), 124), (('manter',), 124), (('cortar',), 123), (('liberar',), 122), (('perder',), 122), (('agibank',), 121), (('pagar',), 120), (('refinr',), 119), (('ac',), 116), (('cartao',), 116), (('informacoes',), 115), (('sao',), 114), (('descontar',), 113), (('outubro',), 112), (('autorizar',), 110), (('100002',), 110), (('propor',), 109), (('novembro',), 106), (('faltar',), 105), (('ajudar',), 103), (('bom',), 103), (('150000',), 102), (('ficar',), 102), (('estao',), 102), (('continuo',), 101), (('so',), 101), (('Silva',), 99), (('deitar',), 98), (('cnh',), 98), (('fatura',), 98), (('Calculo',), 97), (('novamente',), 97), (('30',), 97), (('dizer',), 97), (('optante',), 97), (('prints',), 96), (('ocorrencia',), 96), (('Internet',), 96), (('classificacao',), 96), (('quantidade',), 96), (('nitir',), 96), (('variacao',), 96), (('retornar',), 96), (('devedor',), 95), (('segar',), 95), (('reverso',), 94), (('desfavoravel',), 94), (('encaminhar',), 93), (('deverar',), 92), (('recalcular',), 91), (('aceitar',), 90), (('1',), 88), (('Banking',), 87), (('olho',), 87), (('crefiso',), 85), (('aceitamos',), 85), (('ajustar',), 85), (('cadastrar',), 84), (('sobrenome',), 83), (('retirar',), 83), (('n',), 82), (('obs',), 81), (('Caixa',), 80), (('cancelar',), 80), (('outro',), 79), (('antigo',), 79), (('rg',), 79), (('seguro',), 77), (('som',), 76), (('pmts',), 75), (('real',), 75), (('bradesco',), 74), (('integral',), 74), (('regional',), 73), (('1108',), 73), (('assinar',), 72), (('hora',), 72), (('1.00002',), 71), (('reajustar',), 71), (('enviado',), 70), (('aceita',), 70), (('esclarecer',), 70), (('0707',), 70), (('1.00000',), 69), (('40000',), 69), (('60000',), 67), (('cadastro',), 67), (('celular',), 66), (('12129',), 66), (('rosto',), 66), (('formato',), 66), (('#',), 66), (('0408',), 66), (('especiar',), 65), (('sera',), 65), (('amanho',), 65), (('1300',), 65), (('convenio',), 65), (('150004',), 64), (('Movimentacao',), 64), (('texto',), 64), (('0109',), 64), (('caixar',), 63), (('25000',), 63), (('errar',), 63), (('1.50000',), 63), (('possamo',), 62), (('ctps',), 62), (('numeracao',), 62), (('ce',), 62), (('documentacao',), 61), (('incompleto',), 61), (('site',), 61), (('bone',), 60), (('ligacao',), 60), (('ter',), 59), (('demonstrativo',), 59), (('mensurar',), 59), (('tratar',), 59), (('0608',), 59), (('0508',), 59), (('400000',), 58), (('termo',), 57), (('0407',), 57), (('se',), 57), (('lancamento',), 57), (('duvir',), 56), (('identificar',), 56), (('tr',), 56), (('corretamente',), 56), (('seguinte',), 56), (('competencia',), 55), (('falar',), 55), (('estar',), 55), (('enquadra',), 55), (('direto',), 54), (('claro',), 54), (('auxilio',), 54), (('incorreta',), 54), (('10',), 53), (('beneficiaria',), 52), (('santo',), 52), (('6x',), 52), (('arrogo',), 52), (('alinhar',), 51), (('prestacoes',), 51), (('regra',), 50), (('barra',), 50), (('1109',), 50), (('aparecer',), 49), (('ajuda',), 49), (('es',), 49), (('gehntileza',), 49), (('contr',), 49), (('0509',), 49), (('sd',), 49), (('ano',), 48), (('colaboradora',), 48), (('mora',), 47), (('1808',), 47), (('0108',), 47), (('4',), 47), (('efetuar',), 46), (('0708',), 46), (('Docs',), 46), (('Maria',), 45), (('0207',), 45), (('acordo',), 45), (('0309',), 44), (('2508',), 44), (('vir',), 43), (('48514',), 43), (('mesmo',), 43), (('8788',), 42), (('conferenciar',), 42), (('aceitamo',), 42), (('1.50004',), 42), (('niter',), 42), (('36385',), 41), (('ror',), 41), (('36386',), 41), (('valir',), 41), (('apresentacao',), 41), (('subir',), 41), (('analista',), 40), (('parc',), 40), (('0307',), 40), (('caixo',), 39), (('permitir',), 39), (('favoravel',), 39), (('?',), 39), (('1107',), 39), (('enquadro',), 39), (('red',), 39), (('0107',), 39), (('analfabeto',), 38), (('por',), 38), (('santander',), 38), (('magnetico',), 38), (('200002',), 38), (('devera',), 38), (('0807',), 38), (('apresentar',), 38), (('1507',), 38), (('80000',), 37), (('0703',), 37), (('1408',), 37), (('000318',), 37), (('pgto',), 37), (('visibilidade',), 37), (('318',), 36), (('erro',), 36), (('35000',), 36), (('consignar',), 36), (('fechar',), 36), (('conter',), 36), (('centralizar',), 36), (('0209',), 36), (('87',), 36), (('utilizar',), 36), (('especie',), 36), (('0705',), 35), (('conto',), 35), (('normativo',), 35), (('1009',), 35), (('financeiro',), 34), (('digitar',), 34), (('Operacao',), 34), (('emprest',), 34), (('fazer',), 33), (('ha',), 33), (('aprovar',), 33), (('indentificacao',), 33), (('nomear',), 32), (('alfabetizado',), 32), (('20003',), 32), (('corretar',), 32), (('2708',), 32), (('0809',), 32), (('perguntar',), 32), (('aptor',), 32), (('legal',), 31), (('mudo',), 31), (('0505',), 31), (('_',), 31), (('quitacao',), 31), (('189226',), 31), (('2207',), 31), (('c6',), 31), (('0808',), 31), (('deb',), 31), (('procede',), 31), (('aplicativo',), 30), (('hiscon._x000b',), 30), (('anexado',), 30), (('ctts',), 30), (('1509',), 30), (('80003',), 29), (('caro',), 29), (('2507',), 29), (('titular',), 29), (('cdc',), 29), (('darmos',), 28), (('200003',), 28), (('serar',), 28), (('pagto',), 28), (('conferir',), 28), (('Pess',), 28), (('1.89226',), 28), (('facto',), 28), (('1806',), 28), (('70000',), 27), (('34768',), 27), (('deixar',), 27), (('disp',), 27), (('acessorio',), 27), (('0606',), 27), (('0506',), 27), (('0409',), 27), (('validacoe',), 27), (('onste',), 27), (('0704',), 26), (('contratacao',), 26), (('0206',), 26), (('0906',), 26), (('cobranca',), 26), (('0907',), 26), (('procuracao',), 26), (('devedora',), 26), (('100005',), 26), (('1003',), 25), (('ilegivel',), 25), (('restricoes',), 25), (('02052025',), 25), (('moro',), 25), (('1007',), 25), (('dizere',), 25), (('Real',), 25), (('fim',), 25), (('Validacoes',), 24), (('consta',), 24), (('lib',), 24), (('corrompido',), 24), (('eletr',), 24), (('motivo',), 24), (('21',), 24), (('valido',), 24), (('durante',), 24), (('resolucao',), 24), (('appr',), 23), (('1106',), 23), (('0805',), 23), (('narratorio',), 23), (('rating',), 23), (('unico',), 23), (('t',), 23), (('ordem',), 23), (('200000',), 23), (('dispositivo',), 23), (('0610',), 23), (('0110',), 23), (('2107',), 23), (('transf',), 23), (('elet',), 23), (('88',), 23), (('diferente',), 23), (('Emprest',), 23), (('restricao',), 23), (('maximo',), 23), (('impossibilitar',), 22), (('0302',), 22), (('contatar',), 22), (('90000',), 22), (('desejar',), 22), (('haver',), 22), (('0909',), 22), (('rl',), 22), (('2808',), 22), (('20012025',), 22), (('aguardar',), 22), (('ajuste',), 22), (('rodape',), 21), (('prev',), 21), (('solicitacao',), 21), (('beneficiar',), 21), (('carimbar',), 21), (('Jenifer',), 21), (('120000',), 21), (('Souza',), 21), (('3007',), 21), (('Parcela',), 21), (('paga',), 21), (('12128',), 20), (('tambem',), 20), (('renomear',), 20), (('arogo',), 20), (('0306',), 20), (('envio',), 20), (('Alves',), 20), (('excecao',), 20), (('areprovacao',), 20), (('45900',), 20), (('1609',), 20), (('certidao',), 20), (('carta',), 20), (('validarr',), 19), (('89307',), 19), (('unificar',), 19), (('siabe',), 19), (('recebir',), 19), (('gerente',), 19), (('oliveira',), 19), (('consulta',), 19), (('crefazr',), 19), (('094',), 19), (('instituicoe',), 19), (('prova',), 19), (('trabalho',), 19), (('assinaturar',), 19), (('70001',), 19), (('carater',), 19), (('2.00000',), 19), (('1908',), 19), (('3006',), 19), (('0810',), 19), (('pan',), 19), (('chat',), 19), (('bb',), 19), (('0404',), 18), (('31',), 18), (('ciente',), 18), (('acima',), 18), (('pe',), 18), (('0603',), 18), (('agente',), 18), (('189304',), 18), (('10000',), 18), (('preciso',), 18), (('50002',), 18), (('61838',), 18), (('2807',), 18), (('nascimento',), 18), (('dinheiro',), 18), (('refente',), 18), (('Agiplan',), 18), (('presente',), 18), (('10022025',), 18), (('s',), 18), (('gravar',), 18), (('atrasar',), 18), (('jose',), 18), (('apto',), 18), (('4.00000',), 18), (('metade',), 17), (('de',), 17), (('saca',), 17), (('mudar',), 17), (('comprovar',), 17), (('oculo',), 17), (('alessandra',), 17), (('explicar',), 17), (('100',), 17), (('82451',), 17), (('identificamos',), 17), (('89047',), 17), (('analfabeta',), 17), (('exportar',), 17), (('0310',), 17), (('6',), 17), (('75000',), 17), (('dispon',), 17), (('Cartao',), 17), (('21000',), 17), (('curatela',), 17), (('05032025',), 17), (('d',), 17), (('entender',), 17), (('2.00002',), 17), (('proprio',), 17), (('1000',), 17), (('ajustir',), 17), (('27758',), 17), (('0904',), 16), (('01',), 16), (('alfabetizar',), 16), (('Gabriel',), 16), (('gerentir',), 16), (('af50001',), 16), (('liberacao',), 16), (('siaber',), 16), (('4852',), 16), (('r',), 16), (('Brasil',), 16), (('1.20000',), 16), (('comprover',), 16), (('1508',), 16), (('1208',), 16), (('0210',), 16), (('curador',), 16), (('concessao',), 16), (('10032025',), 16), (('algum',), 16), (('nitido',), 16), (('proxima',), 15), (('programar',), 15), (('antonio',), 15), (('ptm',), 15), (('05052025',), 15), (('012025',), 15), (('02062025',), 15), (('32000',), 15), (('pleno',), 15), (('qrcoder',), 15), (('23000',), 15), (('naoer',), 15), (('bruto',), 15), (('45000',), 15), (('instituicao',), 15), (('inbursa',), 15), (('1500',), 15), (('entrar',), 15), (('0204',), 15), (('analiser',), 15), (('ctpsr',), 15), (('vago',), 15), (('canal',), 15), (('encaixa',), 15), (('facta',), 14), (('cosntar',), 14), (('2404',), 14), (('joao',), 14), (('19406',), 14), (('1706',), 14), (('08052025',), 14), (('45919',), 14), (('Pereira',), 14), (('Luiz',), 14), (('retificar',), 14), (('modelo',), 14), (('2509',), 14), (('continuidade',), 14), (('completar',), 14), (('localizar',), 14), (('estorno',), 14), (('x',), 14), (('1809',), 14), (('transferencia',), 14), (('0503',), 14), (('55000',), 14), (('restante',), 14), (('s.a',), 14), (('07032025',), 14), (('03022025',), 14), (('!',), 14), (('prest',), 14), (('1607',), 14), (('..',), 14), (('faltante',), 14), (('totalmente',), 14), (('portabilidade',), 14), (('esp',), 14), (('2.00003',), 14), (('27774',), 14), (('21663',), 13), (('20613',), 13), (('03012025',), 13), (('2001',), 13), (('conferencio',), 13), (('comprovacao',), 13), (('...',), 13), (('agencer',), 13), (('colaborador',), 13), (('0406',), 13), (('3005',), 13), (('divergencia',), 13), (('1.80000',), 13), (('oliveirar',), 13), (('01092025',), 13), (('7277',), 13), (('contratar',), 13), (('confirma',), 13), (('referir',), 13), (('extincao',), 13), (('2208',), 13), (('qi',), 13), (('04022025',), 13), (('atencao',), 13), (('0104',), 13), (('11022025',), 13), (('operacoes',), 13), (('refinanciamento',), 13), (('coloracao',), 13), (('1407',), 13), (('hab',), 13), (('safra',), 13), (('lojar',), 13), (('encontrar',), 13), (('usar',), 13), (('tirar',), 13), (('07012025',), 13), (('mencionar',), 13), (('lj',), 13), (('refetente',), 13), (('cleinte',), 12), (('michelle',), 12), (('0301',), 12), (('400004',), 12), (('Marco',), 12), (('300004',), 12), (('tamber',), 12), (('1606',), 12), (('3.00000',), 12), (('observacao',), 12), (('Migracao',), 12), (('mandar',), 12), (('termino',), 12), (('1504',), 12), (('0804',), 12), (('072025',), 12), (('Santos',), 12), (('liquidacao',), 12), (('5',), 12), (('1709',), 12), (('gasto',), 12), (('bn',), 12), (('anexra',), 12), (('82452',), 12), (('2008',), 12), (('escuro',), 12), (('notar',), 12), (('04072025',), 12), (('cobranco',), 12), ((\"'\",), 12), (('aspecir',), 12), (('500',), 12), (('2908',), 12), (('sero',), 12), (('digital',), 12), (('+',), 12), (('renegociacao',), 12), (('rodrigues',), 12), (('necessitar',), 12), (('casamento',), 12), (('futuro',), 12), (('%',), 12), (('prestamista',), 12), (('agrega',), 12), (('sozinho',), 12), (('corretor',), 12), (('enivar',), 11), (('App',), 11), (('vide',), 11), (('autenticidade',), 11), (('donar',), 11), (('carimbado',), 11), (('206129',), 11), (('Henrique',), 11), (('comeco',), 11), (('ler',), 11), (('39164',), 11), (('eou',), 11), (('06082025',), 11), (('represente',), 11), (('15000',), 11), (('comrpovante',), 11), (('ruim',), 11), (('41226',), 11), (('gastar',), 11), (('189308',), 11), (('bloquear',), 11), (('vida',), 11), (('28000',), 11), (('7',), 11), (('29108',), 11), (('Senha',), 11), (('2606',), 11), (('Bruto',), 11), (('retencao',), 11), (('mostrar',), 11), (('3.00004',), 11), (('Carlos',), 11), (('70002',), 11), (('1.70000',), 11), (('1807',), 11), (('06012025',), 11), (('luz',), 11), (('encerrar',), 11), (('05022025',), 11), (('emprestir',), 11), (('2407',), 11), (('lateral',), 11), (('confrimar',), 11), (('aliner',), 11), (('07',), 11), (('2204',), 10), (('1203',), 10), (('Gomes',), 10), (('Davi',), 10), (('1205',), 10), (('individual',), 10), (('103064',), 10), (('0602',), 10), (('97028',), 10), (('inclusao',), 10), (('jesus',), 10), (('1006',), 10), (('1206',), 10), (('confirme',), 10), (('72771',), 10), (('ouvir',), 10), (('Costa',), 10), (('Folha',), 10), (('0205',), 10), (('pendnete',), 10), (('seguimento',), 10), (('123677',), 10), (('inelegivel',), 10), (('180004',), 10), (('1308',), 10), (('60642',), 10), (('20002',), 10), (('carteira',), 10), (('apareca',), 10), (('2706',), 10), (('2608',), 10), (('2409',), 10), (('1707',), 10), (('cobrar',), 10), (('2309',), 10), (('anexer',), 10), (('0601',), 10), (('podermos',), 10), (('afim',), 10), (('Padrao',), 10), (('embacar',), 10), (('24000',), 10), (('relacao',), 10), (('prosseguir',), 10), (('responder',), 10), (('definitivo',), 10), (('Sousa',), 10), (('mae',), 10), (('2024',), 10), (('claramente',), 10), (('sanada',), 10), (('duvida',), 10), (('escolher',), 10), (('celia',), 10), (('baixo',), 10), (('embassar',), 10), (('sacar',), 10), (('scripto',), 10), (('passar',), 10), (('corresponder',), 10), (('numerado',), 10), (('recalculados',), 10), (('serao',), 9), (('af50000',), 9), (('5000',), 9), (('2805',), 9), (('97027',), 9), (('chque',), 9), (('comprovantes',), 9), (('movimentacoe',), 9), (('cliete',), 9), (('sol',), 9), (('Conceicao',), 9), (('2006',), 9), (('Julia',), 9), (('pessoa',), 9), (('citar',), 9), (('3004',), 9), (('2108',), 9), (('1306',), 9), (('pendenciar',), 9), (('apagar',), 9), (('3107',), 9), (('300000',), 9), (('reconhecer',), 9), (('cartorio',), 9), (('expressa',), 9), (('Eletron',), 9), (('0',), 9), (('positivo',), 9)]\n"
          ]
        }
      ]
    },
    {
      "cell_type": "markdown",
      "source": [
        "* Bigrams"
      ],
      "metadata": {
        "id": "lbgeTGkzSmt7"
      }
    },
    {
      "cell_type": "code",
      "source": [
        "bigrams = nltk.ngrams(tokens, 2)"
      ],
      "metadata": {
        "id": "sc59nkwdSoDr"
      },
      "execution_count": 161,
      "outputs": []
    },
    {
      "cell_type": "code",
      "source": [
        "print(Counter(bigrams).most_common(50))"
      ],
      "metadata": {
        "colab": {
          "base_uri": "https://localhost:8080/"
        },
        "id": "CTTrt8WeSuP7",
        "outputId": "e2c84282-036a-455a-ab9d-c66fdaf70de1"
      },
      "execution_count": 162,
      "outputs": [
        {
          "output_type": "stream",
          "name": "stdout",
          "text": [
            "[(('video', 'confirmar'), 4491), (('R', '$'), 3945), (('alteracao', 'valor'), 3321), (('confirmar', 'alteracao'), 3307), (('documento', 'identificacao'), 2796), (('.', 'video'), 2134), (('video', 'ok'), 2103), (('valor', 'video'), 2024), (('valor', 'af'), 2017), (('cred', 'pix'), 2009), (('extrato', 'pdf'), 1735), (('print', 'app'), 1724), (('seguir', 'pendente'), 1360), (('comprovante', 'cred'), 1219), (('vlr', 'pmt'), 1215), (('seguir', 'valor'), 1188), (('valor', 'conforme'), 1177), (('confirmar', 'valor'), 1176), (('af', 'R'), 1103), (('extrato', 'extrato'), 1053), (('senhar', 'master'), 1017), (('pdf', 'analisar'), 975), (('extrato', 'informacao'), 968), (('analisar', 'ok'), 919), (('conforme', 'script'), 918), (('ultimo', 'extrato'), 913), ((';', 'extrato'), 909), (('video', 'Confirmacoes'), 899), (('3', 'ultimo'), 883), (('12x', 'video'), 869), (('sujeito', 'reprovacao'), 842), (('dado', 'valor'), 827), (('pendente', 'proximo'), 807), (('video', 'video'), 803), (('.', '12x'), 794), (('.', 'extrato'), 775), (('frente', 'verso'), 769), (('aprovacao', 'senhar'), 739), (('extrato', 'padrao'), 704), (('proximo', 'analise'), 698), (('analise', 'sujeito'), 695), (('master', 'informacao'), 686), (('pmt', '12x'), 685), (('.', 'comprovante'), 684), (('12x', 'vlr'), 676), (('identificacao', 'frente'), 639), (('extrato', 'print'), 638), (('aceito', 'mediante'), 605), (('mediante', 'print'), 600), (('cheque', 'especial'), 595), (('cliente', 'nao'), 592), (('validar', 'junto'), 587), (('pix', 'dia'), 585), (('Confirmacoes', 'correta'), 582), (('limite', 'cheque'), 580), (('junto', 'pdfer'), 579), (('pdfer', 'anexo'), 579), (('anexo', 'aprovacao'), 579), (('ok', '.'), 570), (('video', 'conforme'), 568), (('correta', 'dado'), 565), (('video', 'anexo'), 565), (('af', '='), 562), (('app', ';'), 557), (('.', 'documento'), 548), (('prazo', '12'), 541), ((';', 'video'), 523), (('.', 'valor'), 521), (('in100', 'hiscon'), 511), ((';', 'seguir'), 503), (('saldo', 'visivel'), 501), (('app', 'validar'), 478), (('video', 'formalizacao'), 462), (('informacao', 'extrato'), 456), (('contrato', 'audio'), 453), (('informacao', 'beneficio'), 440), (('copia', 'ctt'), 440), (('pdf', 'caixa'), 429), (('poderar', 'aceito'), 427), (('caixa', 'poderar'), 426), (('informacao', 'inss'), 426), (('atual', '.'), 424), (('video', 'valor'), 418), (('``', 'extrato'), 414), (('codigo', 'barro'), 410), (('Simulador', 'anexo'), 386), (('ok', 'af'), 383), (('saldo', 'extrato'), 380), (('conforme', 'abaixo'), 379), (('.', 'seguir'), 379), (('valor', 'operacao'), 377), (('.', 'nao'), 375), (('ok', 'valor'), 362), (('.', '8x'), 362), (('pag', 'boleto'), 360), (('8x', 'video'), 360), (('identificacao', 'documento'), 358), (('video', 'cliente'), 346), (('.', 'af'), 342), (('pdf', 'nao'), 339), (('cred', 'ted'), 336), (('inss', 'detalhamento'), 335), (('dar', 'contar'), 333), (('verso', 'documento'), 333), (('nao', 'compartilhamento'), 333), (('validacao', 'master'), 333), (('print', 'telo'), 332), (('detalhamento', 'qrcod'), 329), (('valor', 'Simulador'), 329), (('prazo', '8'), 329), (('qrcod', 'atualizar'), 328), (('=', '='), 328), (('telo', 'app'), 327), (('compartilhamento', '.'), 324), (('extrato', 'atual'), 323), (('atualizar', 'in100'), 321), (('arquivo', 'pdf'), 320), (('gerar', 'arquivo'), 319), (('ctt', 'dia'), 319), (('contar', 'saldo'), 317), (('nao', 'conseguir'), 316), (('alteracoes', 'valor'), 315), (('via', 'login'), 313), (('padrao', 'gerar'), 313), (('padrao', '.'), 313), (('conseguir', 'validar'), 304), (('cliente', 'possuir'), 302), (('hiscon', '.'), 302), (('copia', 'contrato'), 299), (('.', 'gentileza'), 298), (('conforme', 'simulador'), 298), (('extrato', '.'), 297), (('cliente', '.'), 291), (('app', 'constar'), 289), (('proximo', 'pendencia'), 289), (('mes', 'atual'), 287), (('.', 'contrato'), 287), (('gentileza', 'extrato'), 285), (('identificacao', 'video'), 284), (('script', 'incorreto'), 280), (('comprovante', 'comprovante'), 280), (('pmt', '8x'), 278), (('comprovante', 'contrato'), 278), (('qrcod', 'detalhamento'), 277), (('validar', 'qrcod'), 275), (('12x', 'documento'), 273), (('detalhamento', '.'), 273), (('comprovante', 'video'), 270), (('8x', 'vlr'), 269), (('identificacao', 'beneficiario'), 268), (('contrato', 'referente'), 264), (('saldo', 'print'), 261), (('.', 'saldo'), 259), (('incorreto', 'video'), 259), (('caixa', 'eletronico'), 258), (('script', '.'), 257), (('.', 'print'), 255), (('print', 'igual'), 255), (('igual', 'saldo'), 255), (('conforme', 'margem'), 254), (('pmt', '12'), 252), (('informacao', '``'), 252), (('atualizar', '.'), 251), (('12', 'vlr'), 246), (('constar', 'dar'), 245), (('ok', 'seguir'), 241), (('extrato', 'video'), 240), (('Confirmacoes', 'dado'), 239), (('login', 'master'), 237), (('comprovante', 'pagamento'), 235), (('valor', 'ajustado'), 235), (('visivel', 'conferencia'), 233), (('conferencia', 'juntamente'), 233), (('valor', ';'), 228), (('pdf', '.'), 224), (('valor', '12x'), 223), (('limite', 'operacional'), 218), (('identificacao', 'cliente'), 217), (('ok', 'extrato'), 214), ((';', 'valor'), 214), (('valor', 'cliente'), 212), (('numero', 'contar'), 212), (('beneficio', 'in100'), 211), (('juntamente', 'extrato'), 207), (('movimentacoes', 'mes'), 207), (('dado', 'bancario'), 207), (('.', '``'), 207), (('extrato', 'ultima'), 206), (('ultima', 'movimentacoes'), 206), (('ok', '``'), 206), (('valor', 'correto'), 201), (('app', 'caixa'), 196), (('print', 'tela'), 194), (('extrato', 'bancario'), 193), (('extrato', 'seguir'), 192), (('master', 'via'), 192), (('pix', 'abaixo'), 191), (('extrato', 'pdfer'), 190), (('boleto', 'codigo'), 190), (('reprovacao', 'video'), 190), (('comprovante', 'renda'), 189), (('extrato', 'mes'), 189), (('video', 'seguir'), 189), (('validacao', 'dataprev'), 187), (('renda', 'detalhamento'), 186), (('contar', 'negativo'), 185), (('pmt', '24257'), 183), (('12x', 'extrato'), 182), (('af', '50001'), 182), (('senha', 'crefisar'), 182), ((';', 'documento'), 181), (('225', 'master'), 180), (('login', 'extrato'), 180), (('validacao', '225'), 179), (('ok', 'comprovante'), 179), (('video', 'atualizar'), 179), (('dataprev', '.'), 177), (('caixa', 'saldo'), 175), (('=', 'extrato'), 175), (('abaixo', '.'), 174), (('$', '50001'), 174), (('senhar', 'crefisar'), 173), (('pdfer', 'podera'), 173), (('podera', 'aceito'), 173), (('.', '3'), 171), (('incorreto', '.'), 171), (('hiscon', 'validacao'), 170), (('12', 'video'), 170), (('.', '('), 169), (('ouve', 'alteracoes'), 168), (('12x', 'comprovante'), 168), (('emprestimo', 'pessoal'), 168), (('video', '.'), 167), (('margem', 'disponivel'), 166), (('contrato', 'ativo'), 164), (('legivel', '.'), 162), (('corte', 'util'), 162), (('video', 'ouve'), 161), (('app', 'juntamente'), 161), (('operacao', '.'), 161), (('master', 'retorno'), 161), (('af', '100001'), 160), (('retorno', '='), 160), (('ok', '12x'), 159), (('recebimento', 'beneficio'), 158), (('anexo', 'cliente'), 158), (('a.c', '.'), 158), (('.', 'bruno'), 158), (('referente', 'cred'), 157), (('ok', 'prazo'), 156), (('cod', 'barro'), 155), (('especial', 'contar'), 153), (('visivel', 'extrato'), 153), (('ok', 'documento'), 152), (('anexo', 'nao'), 152), (('beneficio', '.'), 151), (('seguir', 'pendencia'), 151), (('extrato', 'validacao'), 145), (('comprovante', 'pix'), 145), (('cred', 'pess'), 145), (('qr', 'coder'), 143), (('juntamente', 'print'), 142), (('12', 'comprovante'), 142), (('documento', 'identidade'), 142), (('anexo', '.'), 141), (('.', 'cred'), 141), (('valor', 'abaixo'), 141), (('constar', 'recebimento'), 140), (('ok', 'video'), 140), (('tabela', 'inativo'), 140), (('reprovacao', 'extrato'), 139), (('nao', 'constar'), 139), (('data', 'corte'), 139), (('audio', 'crefisar'), 137), (('pagamento', 'boleto'), 137), (('comprovante', 'extrato'), 136), (('qualidade', 'imagem'), 136), (('pix', 'video'), 135), (('pmt', '17384'), 135), (('sujeitar', 'cancelamento'), 135), (('valor', 'extrato'), 133), (('master', '.'), 133), (('parcela', '.'), 133), (('ate', 'data'), 132), (('constar', 'saldo'), 131), (('extrato', 'anexo'), 131), (('extrato', 'janeiro'), 129), (('conforme', 'regrar'), 129), (('nao', 'sanar'), 129), (('.', 'cliente'), 127), (('comp', '.'), 127), (('completo', '.'), 126), ((';', 'comprovante'), 126), (('contrato', 'video'), 126), (('pendencia', 'nao'), 126), (('conforme', 'limite'), 125), (('data', 'hoje'), 123), (('disponivel', '.'), 122), (('video', 'alteracao'), 122), (('extrato', 'dezembro'), 121), (('gravacao', 'video'), 121), (('3', 'ultimos'), 121), (('extrato', 'completo'), 120), (('refin', '12x'), 120), (('pendencia', 'sujeitar'), 119), (('perder', 'validade'), 119), (('app', '('), 119), ((')', 'validar'), 119), (('.', 'copia'), 117), (('mes', 'vigente'), 117), (('(', '3'), 117), (('ultimos', ')'), 117), ((')', '.'), 115), (('especial', 'cliente'), 115), (('referente', 'ted'), 115), (('movimentacao', 'app'), 115), (('diretamente', 'inss'), 115), (('pendente', 'extrato'), 114), (('limite', 'especial'), 114), (('audio', 'bmg'), 114), (('validacoes', '.'), 113), (('ser', 'crefisar'), 113), (('video', 'inaudivel'), 112), (('realizar', 'gravacao'), 112), (('master', 'movimentacao'), 112), (('pendencia', 'proximo'), 112), (('periodo', 'completo'), 111), (('8x', 'documento'), 111), (('abaixo', 'video'), 111), (('inaudivel', 'realizar'), 110), (('8', 'comprovante'), 110), (('$', '1.00001'), 110), (('script', 'video'), 109), (('atendente', 'informar'), 108), (('frente', 'documento'), 108), (('hiscon', 'in100'), 108), (('alteracao', 'Valores'), 108), (('credito', 'pessoal'), 107), (('boleto', 'R'), 107), (('cheque', 'limite'), 106), (('contrato', 'bmg'), 106), (('tela', '.'), 106), (('extrato', 'app'), 105), (('possar', 'verificar'), 105), (('audio', 'referente'), 105), (('ok', 'ate'), 104), (('50001', 'pmt'), 104), (('valor', '.'), 104), (('abaixo', 'cred'), 103), (('inss', 'validacao'), 103), (('validacao', 'beneficio'), 103), (('documento', 'beneficiario'), 103), (('100001', 'pmt'), 103), (('verso', '.'), 103), (('analise', 'ok'), 103), (('anexo', 'atendente'), 103), (('$', '50000'), 102), (('af', '50003'), 102), (('pendente', 'video'), 102), (('formalizacao', 'valor'), 102), (('``', '.'), 102), (('anexo', 'video'), 102), (('confirmar', 'video'), 102), (('Valores', 'seguir'), 102), (('ajustado', 'operacao'), 102), (('documento', 'legivel'), 101), (('pendencia', 'continuar'), 100), (('saldo', 'contar'), 100), (('<', '<'), 100), (('correto', 'prazo'), 100), (('valor', 'alterar'), 100), (('extrato', 'limite'), 99), (('saldo', 'negativo'), 99), (('af', '50000'), 99), (('cliente', 'receber'), 99), (('detalhamento', 'detalhamento'), 98), (('abaixo', ';'), 98), (('simulador', 'anexo'), 98), (('$', '20000'), 96), (('extrato', 'caixa'), 96), (('reprovacao', '.'), 96), (('imagem', '.'), 96), (('ted', 'bmg'), 96), (('print', 'extrato'), 95), (('margem', 'cliente'), 95), (('video', 'nao'), 95), (('verificacao', 'parcela'), 95), (('video', 'alteracoes'), 95), (('crefisar', 'validacoes'), 95), (('identificacao', 'legivel'), 94), (('classificacao', 'ok'), 94), (('confirmar', 'dado'), 94), (('cliente', 'video'), 94), (('cliente', 'confirmar'), 93), (('pix', '20000'), 93), (('legivel', ';'), 93), (('reprovacao', 'af'), 93), (('extrato', 'agosto'), 93), (('selfie', 'cliente'), 92), (('barro', 'dia'), 92), (('extrato', 'julho'), 92), (('validar', 'beneficio'), 92), (('quantidade', 'parcela'), 92), (('padrao', 'pdf'), 92), (('50001', 'video'), 92), (('parcela', 'data'), 92), (('Calculo', 'margem'), 91), (('especial', 'saldo'), 91), (('master', 'loja'), 91), (('app', 'saldo'), 91), (('beneficio', 'cliente'), 91), (('via', 'master'), 90), (('8', 'video'), 90), (('.', 'senhar'), 89), (('validar', 'extrato'), 89), (('script', 'correto'), 89), (('ate', 'dia'), 88), (('senha', 'audio'), 88), (('valor', 'numero'), 88), (('Internet', 'Banking'), 87), (('ajudar', 'terceiro'), 87), (('nao', 'possuir'), 87), (('historico', 'desfavoravel'), 87), (('pix', 'comprovante'), 86), (('extrato', 'abril'), 86), (('af', '.'), 86), (('valor', 'comprovante'), 86), (('ctt', 'ref'), 86), (('barro', 'R'), 86), (('dcb', 'qrcode'), 85), (('proximo', 'sujeitar'), 85), (('video', 'script'), 85), (('nao', 'aceitamos'), 84), (('app', 'validacao'), 84), (('extrato', 'setembro'), 84), (('doc', 'identificacao'), 84), (('constar', 'negativo'), 83), (('12', 'documento'), 83), (('30', 'dia'), 82), (('saldo', 'constar'), 82), (('comprovante', 'pag'), 82), (('calculo', 'margem'), 82), (('comprovante', 'limite'), 82), (('8x', 'extrato'), 82), (('cliente', 'precisar'), 80), (('extrato', 'ultimos'), 79), (('.', 'audio'), 79), (('.', 'pmt'), 79), (('contrato', 'emprestimo'), 79), (('master', ')'), 79), (('valor', 'valor'), 79), (('ok', '8x'), 78), (('master', 'print'), 78), (('=', '50001'), 78), (('.', 'detalhamento'), 78), (('video', ';'), 78), (('desconto', 'parcela'), 78), (('ultimos', '30'), 77), (('margem', '.'), 77), (('valor', 'documento'), 77), (('nao', 'possivel'), 77), (('contar', 'bancario'), 77), (('cliente', 'af'), 77), (('validar', 'via'), 77), (('8x', 'comprovante'), 76), (('conforme', 'extrato'), 76), (('comprovante', 'documento'), 76), (('script', 'cliente'), 76), (('12x', 'seguir'), 76), (('contar', 'cliente'), 75), (('extrato', 'marco'), 75), (('extrato', 'cheque'), 75), (('.', 'dcb'), 75), (('ativo', '.'), 75), (('anexo', 'seguir'), 75), (('atualizar', 'possar'), 75), (('refinr', '12x'), 75), (('ver', 'login'), 74), ((';', '3'), 74), (('contar', '.'), 74), (('verso', 'legivel'), 74), (('ctt', 'audio'), 74), (('bmg', 'R'), 74), (('nao', 'informar'), 74), (('extrato', 'novembro'), 73), (('af', '100002'), 73), (('extrato', 'diretamente'), 72), (('sujeitar', 'reprovacao'), 72), (('saldo', 'devedor'), 72), (('.', 'selfie'), 72), (('nao', 'sao'), 72), (('video', 'incorreto'), 72), (('documento', 'cliente'), 72), (('contar', 'confirmar'), 72), (('deverar', 'constar'), 72), (('.', 'conforme'), 71), (('atual', 'in100'), 71), (('.', 'validar'), 71), (('extrato', 'junho'), 71), (('correto', 'conforme'), 71), ((')', ';'), 71), (('.', 'limite'), 71), (('solicitar', 'cliente'), 71), (('contrato', 'quantidade'), 71), (('possuir', 'contrato'), 70), (('identificacao', 'doc'), 70), (('migracao', 'contar'), 70), (('eletronico', 'mes'), 70), (('analisar', '.'), 70), (('bancario', 'caixa'), 70), (('in100', 'atualizar'), 70), (('pmt', '.'), 70), (('data', 'original'), 70), (('recebimento', 'inss'), 69), (('$', '100000'), 69), (('$', '30000'), 69), (('operacao', 'video'), 69), (('identificacao', 'nao'), 69), (('verificar', 'variacao'), 69), (('ctt', 'parcela'), 69), (('constar', 'integral'), 69), (('integral', 'contrato'), 69), (('original', 'desconto'), 69), (('nao', 'aceita'), 68), (('pdf', 'a.c'), 68), (('morar', 'cred'), 68), (('ted', 'dia'), 68), (('variacao', '.'), 68), (('extrato', 'enviado'), 67), (('bancario', 'completo'), 67), (('video', 'extrato'), 67), (('foto', 'telo'), 67), (('valor', '8x'), 67), (('retorno', 'senhar'), 67), (('formalizacao', 'conforme'), 67), (('valor', 'reajustar'), 67), (('reajustar', 'operacao'), 67), (('ok', 'print'), 66), (('nao', 'poder'), 66), (('atendente', 'nao'), 66), (('datar', 'corte'), 66), (('#', 'pessoal'), 66), (('reprovacao', 'documento'), 66), (('master', 'af'), 66), (('cadastro', 'optante'), 66), (('banco', 'solicitar'), 66), (('extrato', 'maio'), 65), (('sao', 'aceito'), 65), (('reprovacao', 'comprovante'), 65), (('audio', 'ted'), 65), (('parcela', 'cred'), 65), (('optante', 'banco'), 65), (('cliente', 'autorizar'), 65), (('autorizar', 'amanho'), 65), (('amanho', 'apo'), 65), (('apo', '1300'), 65), (('1300', 'hora'), 65), (('hora', 'debito'), 65), (('debito', 'convenio'), 65), (('convenio', 'cadastrar'), 65), (('cadastrar', 'limite'), 65), (('limite', 'valor'), 65), (('valor', 'autorizacao'), 65), (('autorizacao', '.'), 65), (('extrato', 'fevereiro'), 64), (('pendente', 'comprovante'), 64), (('.', 'senha'), 64), (('crefisar', 'verificacao'), 64), (('sanar', 'sujeito'), 64), (('manter', 'pmt'), 64), (('completo', 'recebimento'), 63), (('recebimento', '.'), 63), (('conforme', 'Simulador'), 63), (('cartao', 'credito'), 63), (('incorreto', ';'), 63), (('segar', 'valor'), 63), (('video', 'contar'), 63), (('cliente', 'informar'), 63), (('master', 'extrato'), 62), (('nao', 'deitar'), 62), (('video', 'Anexo'), 62), (('(', 'saldo'), 62), (('banco', 'bmg'), 62), (('identificacao', 'verso'), 62), (('nome', 'cliente'), 61), (('proximo', 'sujeito'), 61), (('cliente', 'frente'), 61), (('.', 'data'), 61), (('barro', 'pag'), 61), (('audio', 'ser'), 61), (('extrato', 'outubro'), 60), (('pmt', '12129'), 60), (('dar', 'bancario'), 60), (('beneficiario', '.'), 60), (('12x', 'contrato'), 60), (('especial', '.'), 59), (('qrcode', 'atualizar'), 59), (('comprovante', 'codigo'), 59), (('comprovante', 'seguir'), 59), (('video', 'numero'), 59), (('cliente', 'saldo'), 58), (('validacao', '.'), 58), (('nao', 'receber'), 58), (('terceiro', '.'), 58), (('detalhamento', 'dcb'), 58), (('cliente', 'historico'), 58), (('comprovante', 'cod'), 58), (('confirmar', 'alteracoes'), 58), (('seguir', 'operacao'), 57), (('valor', '3'), 57), (('nao', 'abrir'), 57), (('correto', '.'), 57), (('dcb', 'diretamente'), 57), (('olho', 'abrir'), 57), (('texto', 'extrato'), 57), (('pagamento', 'codigo'), 57), (('audio', 'senhar'), 57), (('pess', 'deverar'), 57), (('.', 'refin'), 57), (('script', 'atualizar'), 57), (('anexo', 'af'), 57), (('app', '.'), 56), (('50003', 'pmt'), 56), (('validade', '.'), 56), (('identificacao', '.'), 56), (('cliente', 'ja'), 56), (('original', 'nao'), 56), (('mes', 'julho'), 56), (('validar', 'contrato'), 56), (('(', 'cliente'), 56), (('audio', 'ctt'), 55), (('.', 'validacao'), 55), (('app', 'dar'), 55), (('divergente', 'extrato'), 55), (('verso', 'cliente'), 55), (('pendencia', 'sujeito'), 55), (('hoje', 'validacoes'), 55), (('ajustado', 'conforme'), 55), (('simulador', '.'), 55), (('divergente', 'prazo'), 55), (('manter', 'parcela'), 55), (('operacao', 'cliente'), 55), (('cliente', 'extrato'), 54), (('identificacao', 'extrato'), 54), (('=', '100001'), 54), (('app', 'video'), 54), (('dia', 'hoje'), 54), (('autorizacao', 'via'), 54), (('documento', 'validacao'), 54), (('pessoal', 'nao'), 54), (('nao', 'aceitar'), 54), (('dia', '.'), 53), (('dezembro', 'recebimento'), 53), (('recalcular', 'valor'), 53), (('simulador', 'Anexo'), 53), (('selfie', 'selfie'), 53), (('nao', 'enquadra'), 53), (('retornar', 'texto'), 53), (('0408', 'R'), 53), (('crefisar', 'video'), 53), (('.', 'proximo'), 53), (('negativo', ')'), 53), (('especial', '('), 53), (('precisar', 'autorizacao'), 52), (('mes', 'junho'), 52), (('verso', 'video'), 52), (('inss', 'qr'), 52), ((')', 'video'), 52), (('comprovante', 'boleto'), 52), (('enviado', 'precisar'), 51), (('100002', 'pmt'), 51), (('possamo', 'verificar'), 51), (('.', 'script'), 51), (('10', 'digito'), 51), (('.', 'ctt'), 51), (('numeracao', 'contar'), 51), (('.', 'af='), 51), (('crefisar', 'mensurar'), 51), (('mensurar', 'prestacoes'), 51), (('nao', 'ser'), 51), (('agregar', '.'), 51), (('atualizar', 'ate'), 50), (('negativo', '.'), 50), (('extrato', ';'), 50), (('pix', 'extrato'), 50), (('rogo', '.'), 50), (('aceitamos', 'foto'), 50), (('extrato', 'senhar'), 50), (('extrato', '#'), 50), (('(', 'extrato'), 50), (('vigente', ';'), 50), (('codigo', 'barra'), 50), (('$', '1.00002'), 50), (('atual', ';'), 49), (('50000', 'pmt'), 49), (('beneficio', 'validacao'), 49), (('contrato', 'senhar'), 49), (('3', 'documento'), 49), (('.', 'gehntileza'), 49), (('gehntileza', 'extrato'), 49), (('visivel', 'constar'), 49), (('ja', 'possuir'), 49), (('$', '1.50000'), 49), (('prints', 'extrato'), 48), (('app', 'caixar'), 48), (('cliente', ';'), 48), (('af', '100000'), 48), (('af', '150004'), 48), (('agregar', 'margem'), 48), (('pix', 'receber'), 48), (('alinhar', 'regional'), 48), (('inativo', '.'), 48), (('contrato', 'daycoval'), 48), (('simulador', 'prazo'), 48), (('constar', 'nome'), 47), (('pix', 'R'), 47), (('50001', 'extrato'), 47), (('conforme', 'valor'), 47), (('seguir', 'script'), 47), (('aceito', 'conforme'), 47), (('bmg', 'referente'), 47), (('audio', 'video'), 47), (('20000', 'comprovante'), 47), (('pess', 'ctt'), 47), (('atualizar', ';'), 47), (('$', '50003'), 47), (('hoje', '.'), 46), (('deitar', '.'), 46), (('eletronico', 'Internet'), 46), (('video', 'informar'), 46), (('parcela', 'cliente'), 46), (('receber', 'ajuda'), 46), (('contrato', 'ctt'), 46), (('audio', '.'), 46), (('0109', 'R'), 46), (('``', '12x'), 46), (('contrato', 'ted'), 46), (('alterar', 'conforme'), 46), (('anexo', 'gravacao'), 46), (('diretamente', 'app'), 45), (('dcb', 'anexo'), 45), (('extrato', 'informacoes'), 45), (('confirmacao', 'valor'), 45), (('detalhamento', 'extrato'), 45), (('in100', 'dcb'), 45), (('auxilio', 'terceiro'), 45), (('beneficio', 'hiscon'), 45), (('crefisar', 'validar'), 45), (('propor', 'retornar'), 45), (('atraso', 'nao'), 45), (('video', '3'), 44), (('extrato', 'constar'), 44), (('selfie', 'video'), 44), (('script', 'atual'), 44), (('formalizacao', 'cliente'), 44), (('errar', '.'), 44), (('contar', ';'), 44), (('considerar', 'calculo'), 44), (('possuir', 'ctt'), 44), (('morar', 'credito'), 44), (('referente', 'morar'), 44), (('sera', 'cancelar'), 44), (('colaboradora', 'informar'), 44), (('Docs', 'ver'), 44), (('contrato', 'seguir'), 44), (('0707', 'R'), 44), (('12x', 'script'), 44), (('.', 'refinr'), 44), (('extrato', 'comprovante'), 43), (('ctt', 'ativo'), 43), (('legivel', 'documento'), 43), (('telo', '.'), 43), (('especial', 'video'), 43), (('bom', 'qualidade'), 43), (('ajuda', 'terceiro'), 43), (('comprovante', 'ted'), 43), (('nao', 'bone'), 43), (('apo', 'datar'), 43), (('bancario', 'incorreto'), 43), (('proposta', 'sera'), 43), (('andamento', 'mediante'), 43), (('encaminhar', 'Docs'), 43), (('valor', 'ajustar'), 43), (('(', 'via'), 43), (('contrato', 'comprovante'), 43), (('extrato', 'lancamento'), 43), (('8', 'documento'), 43), (('completo', 'corte'), 42), (('beneficio', 'mes'), 42), (('.', 'ac'), 42), (('abaixo', 'comprovante'), 42), (('identificacao', 'qualidade'), 42), (('pendencia', 'seguir'), 42), (('abrir', '.'), 42), (('daycoval', 'R'), 42), (('$', '40000'), 42), (('bancario', 'divergente'), 42), (('valor', 'seguir'), 42), (('completo', 'continuo'), 41), (('extrato', 'documento'), 41), (('af', '150000'), 41), (('pmt', '36385'), 41), (('anexo', 'perder'), 41), ((';', 'contrato'), 41), (('detalhamento', 'completo'), 41), (('identificacao', 'rogo'), 41), (('crefisar', 'possamo'), 41), (('cliente', 'Confirmacoes'), 41), (('nao', 'aceitamo'), 41), (('liberar', 'apo'), 41), (('bancario', '.'), 41), (('comprovante', 'ser'), 41), (('mediante', 'apresentacao'), 41), (('app', 'encaminhar'), 41), (('parcela', ';'), 41), (('video', 'atendente'), 41), (('50000', 'video'), 41), (('dcb', 'completo'), 40), ((';', 'script'), 40), (('diretamente', 'caixa'), 40), (('comprovante', 'abaixo'), 40), (('conforme', 'verificar'), 40), (('dia', '0707'), 40), (('pmt', '48514'), 40), (('validacao', 'extrato'), 40), (('Banco', 'bmg'), 40), (('bruno', 'comprovante'), 40), (('``', 'video'), 40), ((')', 'seguir'), 40), (('mes', 'outubro'), 40), (('pdf', 'andamento'), 40), (('apresentacao', 'print'), 40), (('contrato', 'cred'), 40), (('incorreta', '.'), 40), (('0407', 'R'), 40), (('ser', 'possivel'), 40), (('detalhamento', 'inss'), 39), (('video', 'rogo'), 39), (('direto', 'caixa'), 39), (('pmt', '36386'), 39), (('ajustado', '.'), 39), (('video', 'numeracao'), 39), (('contrato', 'morar'), 39), (('cred', 'pessoal'), 39), (('numero', 'agencia'), 39), (('identificacao', 'seguir'), 39), (('video', 'dado'), 39), (('valor', 'devido'), 39), (('Anexo', '12x'), 39), (('extrato', 'nao'), 38), (('ate', ';'), 38), (('12x', '3'), 38), (('video', 'confirmacao'), 38), (('detalhamento', 'video'), 38), (('verso', 'rogo'), 38), (('constar', 'codigo'), 38), (('pessoal', 'R'), 38), (('conforme', 'alinhar'), 38), (('regional', 'padrao'), 38), (('caixa', 'pdf'), 38), (('8x', 'seguir'), 38), (('contar', 'dizer'), 38), (('foto', 'tela'), 37), (('nao', 'permitir'), 37), (('audio', 'contrato'), 37), (('contrato', 'crefisar'), 37), (('possar', 'validar'), 37), (('selfie', 'foto'), 37), (('150004', 'pmt'), 37), (('dar', 'cliente'), 37), (('pendente', 'copia'), 37), (('pdf', 'aprovacao'), 37), (('comprovante', 'ctt'), 37), (('possivel', 'validar'), 37), (('completo', ';'), 37), (('dia', '1108'), 37), (('app', 'aprovacao'), 37), (('proposta', '.'), 37), (('nao', 'enquadro'), 37), (('1108', 'R'), 37), (('000318', 'cred'), 37), (('$', '1.50004'), 37), (('anexo', 'incorreta'), 37), (('movimentacoes', 'app'), 37), (('video', 'documento'), 37), (('identificacao', '12x'), 37), (('pagar', 'atraso'), 37), (('completo', 'Cortes'), 36), (('documento', 'nao'), 36), (('script', 'contrato'), 36), ((')', 'extrato'), 36), (('$', '400000'), 36), (('crefiso', '.'), 36), (('rosto', 'cliente'), 36), (('anexo', 'comprovante'), 36), (('demonstrativo', 'diretamente'), 36), (('site', 'inss'), 36), (('informar', 'conta'), 36), (('valor', 'prazo'), 36), (('crefisar', 'R'), 36), (('correto', 'video'), 36), (('verso', 'beneficiario'), 36), (('operacao', 'conforme'), 36), (('operacao', '('), 36), (('bom', 'visibilidade'), 36), (('valor', 'nao'), 36), (('operacao', 'extrato'), 35), (('cliente', 'dar'), 35), (('ror', 'cliente'), 35), ((';', 'detalhamento'), 35), (('precisar', 'confirmar'), 35), (('contrato', 'contrato'), 35), (('ultimos', 'extrato'), 35), ((';', 'print'), 35), (('sanar', 'pendencia'), 35), (('conforme', 'analise'), 35), (('24257', 'video'), 35), (('precisar', 'original'), 35), (('ctt', 'crefisar'), 35), (('enquadro', 'tabela'), 35), (('pix', '50000'), 35), (('ce', 'red'), 35), (('som', '.'), 35), (('pix', 'seguir'), 35), (('=', '50003'), 35), (('desfavoravel', 'agregar'), 35), (('identificacao', 'cnh'), 35), (('tela', '12x'), 35), (('barro', 'data'), 35), (('operacional', 'disponivel'), 35), (('continuo', 'Cortes'), 34), (('novembro', 'recebimento'), 34), (('reprovacao', 'copia'), 34), (('movimentacao', 'ate'), 34), (('Cortes', '.'), 34), (('valor', 'limite'), 34), (('video', 'audio'), 34), (('dcb', 'inss'), 34), (('(', 'master'), 34), (('fatura', 'cartao'), 34), (('pix', 'documento'), 34), (('referente', 'parcela'), 34), (('pendencia', 'anterior'), 34), (('pmt', 'R'), 34), (('agencia', 'incorreto'), 34), (('50001', 'comprovante'), 34), (('comprovante', 'pgto'), 34), (('1808', 'R'), 34), (('formalizacao', '('), 34), (('master', 'video'), 34), (('script', 'valor'), 34), (('bmg', 'copia'), 34), (('ultimo', 'Movimentacao'), 34), (('formalizacao', '.'), 34), (('lancamento', ')'), 34), (('2', 'recebimento'), 33), (('150000', 'pmt'), 33), (('24257', 'extrato'), 33), (('anexo', 'constar'), 33), (('recebimento', 'cliente'), 33), (('aceitamos', 'print'), 33), (('anexo', 'audio'), 33), (('$', '150000'), 33), (('script', ';'), 33), (('junho', 'completo'), 33), (('documento', 'representante'), 33), (('cliente', 'olho'), 33), (('rogo', 'video'), 33), (('realizar', 'confirmacoes'), 33), (('documento', 'anexo'), 33), (('cliente', 'comprovante'), 33), (('pgto', 'cod'), 33), (('validacao', '12x'), 33), (('referente', 'ultimo'), 33), (('comprovante', 'referente'), 32), (('referente', 'emprestimo'), 32), (('pendente', 'contrato'), 32), (('rogo', 'sobrenome'), 32), (('recebimento', 'extrato'), 32), (('extrato', '3'), 32), (('Confirmacoes', 'conforme'), 32), (('beneficio', 'video'), 32), (('nao', 'alfabetizado'), 32), (('nao', 'confirmar'), 32), (('constar', 'extrato'), 32), (('caso', 'cliente'), 32), (('Confirmacoes', 'valor'), 32), (('$', '1.00000'), 32), (('banco', 'antigo'), 32), (('corte', 'reverso'), 32), (('video', 'completo'), 32), (('dcb', 'qr'), 32), (('documento', 'indentificacao'), 32), (('red', 'pess'), 32), (('nao', 'favoravel'), 32), (('tratar', 'se'), 32), (('crefisar', 'audio'), 32), (('video', 'comprovante'), 32), (('0508', 'R'), 32), (('validacao', 'video'), 32)]\n"
          ]
        }
      ]
    },
    {
      "cell_type": "markdown",
      "source": [
        "* Concatenar frases:\n",
        "\n",
        "  - Concatenar frase para valer como tokens únicos"
      ],
      "metadata": {
        "id": "YQh6Bs90SAbI"
      }
    },
    {
      "cell_type": "code",
      "source": [
        "def frases(texto):\n",
        "\n",
        "\n",
        "  # frase 1\n",
        "  texto = re.sub(r'alteracao valor', 'alteracao_valor', texto)\n",
        "  # frase 2\n",
        "  texto = re.sub(r'confirmar valor', 'confirmar_valor', texto)\n",
        "  # frase 3\n",
        "  texto = re.sub(r'documento identificacao', 'documento_identificacao', texto)\n",
        "  # frase 4\n",
        "  texto = re.sub(r'3 ultimo extrato', '3_ultimo_extrato', texto)\n",
        "  # frase 5\n",
        "  texto = re.sub(r'video ok', '', texto)\n",
        "  # frase 6\n",
        "  texto = re.sub(r'selfie legivel', '', texto)\n",
        "\n",
        "  return texto"
      ],
      "metadata": {
        "id": "GRmBxpHFOIfR"
      },
      "execution_count": 163,
      "outputs": []
    },
    {
      "cell_type": "code",
      "source": [
        "df['Limpeza_Regex2'] = df['Limpeza_Regex2'].apply( lambda x: frases(x))"
      ],
      "metadata": {
        "id": "GZJiEW89cQsQ"
      },
      "execution_count": 164,
      "outputs": []
    },
    {
      "cell_type": "markdown",
      "source": [
        "* Listar Palavras Chave para cada Tópico"
      ],
      "metadata": {
        "id": "wbsTvgK4adsV"
      }
    },
    {
      "cell_type": "code",
      "execution_count": 165,
      "metadata": {
        "id": "onjXOw7k8vmp"
      },
      "outputs": [],
      "source": [
        "palavras_topicos = {\n",
        "\n",
        "    'SELFIE': ['selfie'],\n",
        "    'ALTERAÇÃO DE VALORES': ['alteracao_valor','confirmar_valor','alteracao', 'alteracoes'],\n",
        "    'VÍDEO/ÁUDIO PENDENTE': ['script','inaudivel','audio','gravacao','video'],\n",
        "    'DOCUMENTOS': ['documento_identificacao','3_ultimo_extrato','contrato','extrato','comprovante','documento','detalhamento','print','copia','autorizar','pdf','pdfer','legivel','extrato']}\n"
      ]
    },
    {
      "cell_type": "markdown",
      "source": [
        "* Classificação de texto simples baseada em Palavras Chave"
      ],
      "metadata": {
        "id": "03aln-Wkaj0U"
      }
    },
    {
      "cell_type": "code",
      "execution_count": 166,
      "metadata": {
        "id": "CWwITNcUHrE0"
      },
      "outputs": [],
      "source": [
        "def atribuir_topico_com_palavras_chave(texto, palavras_topicos):\n",
        "    for i, (topico, palavras) in enumerate(palavras_topicos.items()):\n",
        "        if any(palavra in texto for palavra in palavras):\n",
        "            return topico  # Retorna o tópico\n",
        "    return  'DOCUMENTOS'"
      ]
    },
    {
      "cell_type": "code",
      "source": [
        "# Criar coluna de rótulo\n",
        "df[\"rótulo_tópico\"] = df[\"Limpeza_Regex2\"].apply(lambda x: atribuir_topico_com_palavras_chave(x, palavras_topicos))"
      ],
      "metadata": {
        "id": "K53iX2vGcqo8"
      },
      "execution_count": 167,
      "outputs": []
    },
    {
      "cell_type": "markdown",
      "source": [
        "* DF para Excel"
      ],
      "metadata": {
        "id": "FfkLSV3xi-GC"
      }
    },
    {
      "cell_type": "code",
      "execution_count": 168,
      "metadata": {
        "id": "1pd1STs6Iq49"
      },
      "outputs": [],
      "source": [
        "df.to_excel('Pendencias.xlsx', index=False)"
      ]
    },
    {
      "cell_type": "markdown",
      "source": [
        "* Download"
      ],
      "metadata": {
        "id": "9IMiY7smjCVz"
      }
    },
    {
      "cell_type": "code",
      "execution_count": 169,
      "metadata": {
        "id": "s3utRkjSKobN",
        "colab": {
          "base_uri": "https://localhost:8080/",
          "height": 17
        },
        "outputId": "efcf7cba-b18e-4209-f336-a84b5cd7ecc5"
      },
      "outputs": [
        {
          "output_type": "display_data",
          "data": {
            "text/plain": [
              "<IPython.core.display.Javascript object>"
            ],
            "application/javascript": [
              "\n",
              "    async function download(id, filename, size) {\n",
              "      if (!google.colab.kernel.accessAllowed) {\n",
              "        return;\n",
              "      }\n",
              "      const div = document.createElement('div');\n",
              "      const label = document.createElement('label');\n",
              "      label.textContent = `Downloading \"${filename}\": `;\n",
              "      div.appendChild(label);\n",
              "      const progress = document.createElement('progress');\n",
              "      progress.max = size;\n",
              "      div.appendChild(progress);\n",
              "      document.body.appendChild(div);\n",
              "\n",
              "      const buffers = [];\n",
              "      let downloaded = 0;\n",
              "\n",
              "      const channel = await google.colab.kernel.comms.open(id);\n",
              "      // Send a message to notify the kernel that we're ready.\n",
              "      channel.send({})\n",
              "\n",
              "      for await (const message of channel.messages) {\n",
              "        // Send a message to notify the kernel that we're ready.\n",
              "        channel.send({})\n",
              "        if (message.buffers) {\n",
              "          for (const buffer of message.buffers) {\n",
              "            buffers.push(buffer);\n",
              "            downloaded += buffer.byteLength;\n",
              "            progress.value = downloaded;\n",
              "          }\n",
              "        }\n",
              "      }\n",
              "      const blob = new Blob(buffers, {type: 'application/binary'});\n",
              "      const a = document.createElement('a');\n",
              "      a.href = window.URL.createObjectURL(blob);\n",
              "      a.download = filename;\n",
              "      div.appendChild(a);\n",
              "      a.click();\n",
              "      div.remove();\n",
              "    }\n",
              "  "
            ]
          },
          "metadata": {}
        },
        {
          "output_type": "display_data",
          "data": {
            "text/plain": [
              "<IPython.core.display.Javascript object>"
            ],
            "application/javascript": [
              "download(\"download_740cc38f-7eb9-4a9c-b5a0-aa3787da4b9a\", \"Pendencias.xlsx\", 3450212)"
            ]
          },
          "metadata": {}
        }
      ],
      "source": [
        "files.download('Pendencias.xlsx')"
      ]
    }
  ],
  "metadata": {
    "colab": {
      "provenance": [],
      "collapsed_sections": [
        "fQYm9o67ew4-",
        "Of-8w80TekrE",
        "ev4wTI3se2Ut",
        "5kZCih_GhYDp"
      ]
    },
    "kernelspec": {
      "display_name": "Python 3",
      "name": "python3"
    }
  },
  "nbformat": 4,
  "nbformat_minor": 0
}