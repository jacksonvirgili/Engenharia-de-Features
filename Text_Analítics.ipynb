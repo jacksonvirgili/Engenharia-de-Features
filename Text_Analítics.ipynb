{
  "cells": [
    {
      "cell_type": "markdown",
      "source": [
        "# Bibliotecas"
      ],
      "metadata": {
        "id": "fQYm9o67ew4-"
      }
    },
    {
      "cell_type": "markdown",
      "source": [
        "## Instalação\n",
        "\n"
      ],
      "metadata": {
        "id": "Of-8w80TekrE"
      }
    },
    {
      "cell_type": "markdown",
      "source": [
        "* Modelo de PLN Spacy para o idioma Português"
      ],
      "metadata": {
        "id": "d4iYr405hFY5"
      }
    },
    {
      "cell_type": "code",
      "source": [
        "!python -m spacy download pt_core_news_sm"
      ],
      "metadata": {
        "id": "RF8iX67M8QO_"
      },
      "execution_count": null,
      "outputs": []
    },
    {
      "cell_type": "markdown",
      "source": [
        "* Biblioteca para Manipulação Planilhas de Excel"
      ],
      "metadata": {
        "id": "5CNyC9SesfyB"
      }
    },
    {
      "cell_type": "code",
      "execution_count": null,
      "metadata": {
        "collapsed": true,
        "id": "98grrCmQ_Le2"
      },
      "outputs": [],
      "source": [
        "!pip install openpyxl"
      ]
    },
    {
      "cell_type": "markdown",
      "source": [
        "## Importação"
      ],
      "metadata": {
        "id": "ev4wTI3se2Ut"
      }
    },
    {
      "cell_type": "code",
      "execution_count": 3,
      "metadata": {
        "id": "eTVjmHKL_Ojg"
      },
      "outputs": [],
      "source": [
        "# Manipulação df\n",
        "import pandas as pd\n",
        "import numpy as np\n",
        "\n",
        "# Manipulação texto\n",
        "import re\n",
        "import unicodedata\n",
        "\n",
        "# Contagem de tokens\n",
        "from collections import Counter\n",
        "\n",
        "# Modelo Manipulação PLN\n",
        "import nltk\n",
        "from nltk.tokenize import word_tokenize\n",
        "\n",
        "# Modelo PLN\n",
        "import spacy\n",
        "from spacy.lang.pt import Portuguese\n",
        "\n",
        "# Manipulação de Arquivos no Colab\n",
        "from google.colab import files\n",
        "\n"
      ]
    },
    {
      "cell_type": "markdown",
      "source": [
        "# Upload"
      ],
      "metadata": {
        "id": "5kZCih_GhYDp"
      }
    },
    {
      "cell_type": "code",
      "execution_count": 4,
      "metadata": {
        "collapsed": true,
        "id": "B9pG2MEd_aDv",
        "colab": {
          "base_uri": "https://localhost:8080/",
          "height": 73
        },
        "outputId": "598d505b-04f8-47f8-af2e-a9ad593d3912"
      },
      "outputs": [
        {
          "output_type": "display_data",
          "data": {
            "text/plain": [
              "<IPython.core.display.HTML object>"
            ],
            "text/html": [
              "\n",
              "     <input type=\"file\" id=\"files-4d51d736-0a97-4bc3-8e58-fddffaf13954\" name=\"files[]\" multiple disabled\n",
              "        style=\"border:none\" />\n",
              "     <output id=\"result-4d51d736-0a97-4bc3-8e58-fddffaf13954\">\n",
              "      Upload widget is only available when the cell has been executed in the\n",
              "      current browser session. Please rerun this cell to enable.\n",
              "      </output>\n",
              "      <script>// Copyright 2017 Google LLC\n",
              "//\n",
              "// Licensed under the Apache License, Version 2.0 (the \"License\");\n",
              "// you may not use this file except in compliance with the License.\n",
              "// You may obtain a copy of the License at\n",
              "//\n",
              "//      http://www.apache.org/licenses/LICENSE-2.0\n",
              "//\n",
              "// Unless required by applicable law or agreed to in writing, software\n",
              "// distributed under the License is distributed on an \"AS IS\" BASIS,\n",
              "// WITHOUT WARRANTIES OR CONDITIONS OF ANY KIND, either express or implied.\n",
              "// See the License for the specific language governing permissions and\n",
              "// limitations under the License.\n",
              "\n",
              "/**\n",
              " * @fileoverview Helpers for google.colab Python module.\n",
              " */\n",
              "(function(scope) {\n",
              "function span(text, styleAttributes = {}) {\n",
              "  const element = document.createElement('span');\n",
              "  element.textContent = text;\n",
              "  for (const key of Object.keys(styleAttributes)) {\n",
              "    element.style[key] = styleAttributes[key];\n",
              "  }\n",
              "  return element;\n",
              "}\n",
              "\n",
              "// Max number of bytes which will be uploaded at a time.\n",
              "const MAX_PAYLOAD_SIZE = 100 * 1024;\n",
              "\n",
              "function _uploadFiles(inputId, outputId) {\n",
              "  const steps = uploadFilesStep(inputId, outputId);\n",
              "  const outputElement = document.getElementById(outputId);\n",
              "  // Cache steps on the outputElement to make it available for the next call\n",
              "  // to uploadFilesContinue from Python.\n",
              "  outputElement.steps = steps;\n",
              "\n",
              "  return _uploadFilesContinue(outputId);\n",
              "}\n",
              "\n",
              "// This is roughly an async generator (not supported in the browser yet),\n",
              "// where there are multiple asynchronous steps and the Python side is going\n",
              "// to poll for completion of each step.\n",
              "// This uses a Promise to block the python side on completion of each step,\n",
              "// then passes the result of the previous step as the input to the next step.\n",
              "function _uploadFilesContinue(outputId) {\n",
              "  const outputElement = document.getElementById(outputId);\n",
              "  const steps = outputElement.steps;\n",
              "\n",
              "  const next = steps.next(outputElement.lastPromiseValue);\n",
              "  return Promise.resolve(next.value.promise).then((value) => {\n",
              "    // Cache the last promise value to make it available to the next\n",
              "    // step of the generator.\n",
              "    outputElement.lastPromiseValue = value;\n",
              "    return next.value.response;\n",
              "  });\n",
              "}\n",
              "\n",
              "/**\n",
              " * Generator function which is called between each async step of the upload\n",
              " * process.\n",
              " * @param {string} inputId Element ID of the input file picker element.\n",
              " * @param {string} outputId Element ID of the output display.\n",
              " * @return {!Iterable<!Object>} Iterable of next steps.\n",
              " */\n",
              "function* uploadFilesStep(inputId, outputId) {\n",
              "  const inputElement = document.getElementById(inputId);\n",
              "  inputElement.disabled = false;\n",
              "\n",
              "  const outputElement = document.getElementById(outputId);\n",
              "  outputElement.innerHTML = '';\n",
              "\n",
              "  const pickedPromise = new Promise((resolve) => {\n",
              "    inputElement.addEventListener('change', (e) => {\n",
              "      resolve(e.target.files);\n",
              "    });\n",
              "  });\n",
              "\n",
              "  const cancel = document.createElement('button');\n",
              "  inputElement.parentElement.appendChild(cancel);\n",
              "  cancel.textContent = 'Cancel upload';\n",
              "  const cancelPromise = new Promise((resolve) => {\n",
              "    cancel.onclick = () => {\n",
              "      resolve(null);\n",
              "    };\n",
              "  });\n",
              "\n",
              "  // Wait for the user to pick the files.\n",
              "  const files = yield {\n",
              "    promise: Promise.race([pickedPromise, cancelPromise]),\n",
              "    response: {\n",
              "      action: 'starting',\n",
              "    }\n",
              "  };\n",
              "\n",
              "  cancel.remove();\n",
              "\n",
              "  // Disable the input element since further picks are not allowed.\n",
              "  inputElement.disabled = true;\n",
              "\n",
              "  if (!files) {\n",
              "    return {\n",
              "      response: {\n",
              "        action: 'complete',\n",
              "      }\n",
              "    };\n",
              "  }\n",
              "\n",
              "  for (const file of files) {\n",
              "    const li = document.createElement('li');\n",
              "    li.append(span(file.name, {fontWeight: 'bold'}));\n",
              "    li.append(span(\n",
              "        `(${file.type || 'n/a'}) - ${file.size} bytes, ` +\n",
              "        `last modified: ${\n",
              "            file.lastModifiedDate ? file.lastModifiedDate.toLocaleDateString() :\n",
              "                                    'n/a'} - `));\n",
              "    const percent = span('0% done');\n",
              "    li.appendChild(percent);\n",
              "\n",
              "    outputElement.appendChild(li);\n",
              "\n",
              "    const fileDataPromise = new Promise((resolve) => {\n",
              "      const reader = new FileReader();\n",
              "      reader.onload = (e) => {\n",
              "        resolve(e.target.result);\n",
              "      };\n",
              "      reader.readAsArrayBuffer(file);\n",
              "    });\n",
              "    // Wait for the data to be ready.\n",
              "    let fileData = yield {\n",
              "      promise: fileDataPromise,\n",
              "      response: {\n",
              "        action: 'continue',\n",
              "      }\n",
              "    };\n",
              "\n",
              "    // Use a chunked sending to avoid message size limits. See b/62115660.\n",
              "    let position = 0;\n",
              "    do {\n",
              "      const length = Math.min(fileData.byteLength - position, MAX_PAYLOAD_SIZE);\n",
              "      const chunk = new Uint8Array(fileData, position, length);\n",
              "      position += length;\n",
              "\n",
              "      const base64 = btoa(String.fromCharCode.apply(null, chunk));\n",
              "      yield {\n",
              "        response: {\n",
              "          action: 'append',\n",
              "          file: file.name,\n",
              "          data: base64,\n",
              "        },\n",
              "      };\n",
              "\n",
              "      let percentDone = fileData.byteLength === 0 ?\n",
              "          100 :\n",
              "          Math.round((position / fileData.byteLength) * 100);\n",
              "      percent.textContent = `${percentDone}% done`;\n",
              "\n",
              "    } while (position < fileData.byteLength);\n",
              "  }\n",
              "\n",
              "  // All done.\n",
              "  yield {\n",
              "    response: {\n",
              "      action: 'complete',\n",
              "    }\n",
              "  };\n",
              "}\n",
              "\n",
              "scope.google = scope.google || {};\n",
              "scope.google.colab = scope.google.colab || {};\n",
              "scope.google.colab._files = {\n",
              "  _uploadFiles,\n",
              "  _uploadFilesContinue,\n",
              "};\n",
              "})(self);\n",
              "</script> "
            ]
          },
          "metadata": {}
        },
        {
          "output_type": "stream",
          "name": "stdout",
          "text": [
            "Saving MOTIVOS DE PENDÊNCIA.xlsx to MOTIVOS DE PENDÊNCIA.xlsx\n"
          ]
        }
      ],
      "source": [
        "df = files.upload()"
      ]
    },
    {
      "cell_type": "markdown",
      "source": [
        "# Fluxo de Tratamento (EXEC)"
      ],
      "metadata": {
        "id": "RS0hF62m5yJN"
      }
    },
    {
      "cell_type": "code",
      "execution_count": 6,
      "metadata": {
        "id": "oabMt8Y2DAdm"
      },
      "outputs": [],
      "source": [
        "df = pd.read_excel('MOTIVOS DE PENDÊNCIA.xlsx')"
      ]
    },
    {
      "cell_type": "markdown",
      "source": [
        "* Limpeza de texto com regex:\n",
        "\n",
        "  - No sistema, o campo observações possui escrita livre. Portanto, não existe nenhum padrão para que possa ser filtrado.\n",
        "\n",
        "  - Foi observado que, geralmente, o principal motivo é descrito nas primeiras duas frases.\n",
        "\n",
        "  - Dentro do que foi observado, utilizamos regex para realizar a primeira etapa limpeza e padronização do texto."
      ],
      "metadata": {
        "id": "XSV75DrEBAng"
      }
    },
    {
      "cell_type": "code",
      "source": [
        "def Limpeza_Regex(texto):\n",
        "  # tira acentos\n",
        "  texto = unicodedata.normalize('NFD', texto)\n",
        "  texto = texto.encode('ascii', 'ignore').decode('utf-8', 'ignore')\n",
        "\n",
        "  # lower case\n",
        "  texto = texto.lower()\n",
        "\n",
        "  # remove todos os asteriscos\n",
        "  texto = re.sub(r'\\*+', '', texto)\n",
        "\n",
        "  # remove todos os '>'\n",
        "  texto = re.sub(r'\\>+', '', texto)\n",
        "\n",
        "  # remove quebras de linha do início\n",
        "  texto = re.sub(r'^(\\s*(_x000d_|\\n))+', '', texto)\n",
        "\n",
        "    # tratamento especial para o padrão \"_x000D_\\n_x000D_\\n\"\n",
        "  if re.search(r'_x000d_\\s*_x000d_\\s*', texto):\n",
        "      # remove o \"_x000d_\" e espaços extras\n",
        "      texto = re.sub(r'_x000d_\\s*_x000d_\\s*', ' ', texto)\n",
        "      # mantém só até a primeira quebra de linha depois disso\n",
        "      texto = texto.split('\\n')[0]\n",
        "  else:\n",
        "      # separa por quebras de linha normalmente\n",
        "      texto = re.split(r'\\n', texto, maxsplit=2)\n",
        "      texto = '\\n'.join(texto[:2])\n",
        "\n",
        "  # remove códigos tipo _x000d_\n",
        "  texto = re.sub(r'_x000d_', '', texto)\n",
        "\n",
        "  # remove quebras de linha no início e no fim\n",
        "  texto = texto.strip()\n",
        "\n",
        "  # remove espaços extras\n",
        "  texto = re.sub(r'\\s+', ' ', texto).strip()\n",
        "\n",
        "  return texto\n"
      ],
      "metadata": {
        "id": "nrO0mnBb8xlT"
      },
      "execution_count": 7,
      "outputs": []
    },
    {
      "cell_type": "code",
      "execution_count": 8,
      "metadata": {
        "id": "ssEcEg6zGfzf"
      },
      "outputs": [],
      "source": [
        "df['Limpeza_Regex'] = df['obs'].fillna('').apply(lambda x: Limpeza_Regex(x))"
      ]
    },
    {
      "cell_type": "markdown",
      "source": [
        "* Stop Words\n",
        "\n",
        "  -   Objeto com lista de que não possuem significado na frase (stop_words)\n"
      ],
      "metadata": {
        "id": "WpsZZu5GrESB"
      }
    },
    {
      "cell_type": "code",
      "source": [
        "stop_words = spacy.lang.pt.stop_words.STOP_WORDS"
      ],
      "metadata": {
        "id": "PCrQzB2DBmfJ"
      },
      "execution_count": 9,
      "outputs": []
    },
    {
      "cell_type": "code",
      "source": [
        "def no_stopwords(texto):\n",
        "  doc = nlp_pt(texto)\n",
        "  return \" \".join(x.text for x in doc if x.text not in stop_words)"
      ],
      "metadata": {
        "id": "hnxKttjIBrQJ"
      },
      "execution_count": 10,
      "outputs": []
    },
    {
      "cell_type": "markdown",
      "source": [
        "* Lemmatization\n",
        "\n",
        "  - Retorna as palavras a sua forma base, respeitando gramática e contexto"
      ],
      "metadata": {
        "id": "bihAUzp_6-q4"
      }
    },
    {
      "cell_type": "code",
      "source": [
        "# carrega modelo pré treinado Spacy para Português\n",
        "nlp_pt = spacy.load('pt_core_news_sm')"
      ],
      "metadata": {
        "id": "FoJitYgorErn"
      },
      "execution_count": 11,
      "outputs": []
    },
    {
      "cell_type": "code",
      "source": [
        "def lemmatization(texto):\n",
        "  doc = nlp_pt(texto)\n",
        "  return ' '.join([token.lemma_ for token in doc])"
      ],
      "metadata": {
        "id": "yaGy5q9e56Ou"
      },
      "execution_count": 12,
      "outputs": []
    },
    {
      "cell_type": "markdown",
      "source": [
        "* Applying"
      ],
      "metadata": {
        "id": "keCMidBytPnR"
      }
    },
    {
      "cell_type": "code",
      "source": [
        "df['no_stopwords'] = df['Limpeza_Regex'].apply( lambda x: no_stopwords(x))"
      ],
      "metadata": {
        "id": "v26AUpxVBx8B",
        "collapsed": true
      },
      "execution_count": 13,
      "outputs": []
    },
    {
      "cell_type": "code",
      "source": [
        "df['lemmatization'] = df['no_stopwords'].apply( lambda x: lemmatization(x))"
      ],
      "metadata": {
        "id": "IEMF8BH57Xi3"
      },
      "execution_count": 14,
      "outputs": []
    },
    {
      "cell_type": "markdown",
      "source": [
        "* Segunda limpeza\n",
        "\n",
        "  - tirando palavras frequentes que não agregam significado, acentos e excesso de espaços."
      ],
      "metadata": {
        "id": "XJablAXeLCG4"
      }
    },
    {
      "cell_type": "code",
      "source": [
        "def Limpeza_Regex2(texto):\n",
        "\n",
        "  # excluir palavra enviar\n",
        "  texto = re.sub(r'enviar', '', texto)\n",
        "\n",
        "  # excluir word 'anexar'\n",
        "  texto = re.sub(r'anexar', '', texto)\n",
        "\n",
        "  # excluir word 'prezar'\n",
        "  texto = re.sub(r'prezar', '', texto)\n",
        "\n",
        "  # excluir simbolo '/'\n",
        "  texto = re.sub(r'/', '', texto)\n",
        "\n",
        "  # excluir simbolo ':'\n",
        "  texto = re.sub(r':', '', texto)\n",
        "\n",
        "  # excluir simbolo ','\n",
        "  texto = re.sub(r',', '', texto)\n",
        "\n",
        "  # remover espaços duplos ou mais\n",
        "  texto = re.sub(r'\\s{2,}', ' ', texto)\n",
        "\n",
        "  # substituir '-'\n",
        "  texto = re.sub(r'-', ' ', texto)\n",
        "\n",
        "  return texto"
      ],
      "metadata": {
        "id": "FmqWKgrDf95L"
      },
      "execution_count": 15,
      "outputs": []
    },
    {
      "cell_type": "code",
      "source": [
        "df['Limpeza_Regex2'] = df['lemmatization'].apply( lambda x: Limpeza_Regex2(x))"
      ],
      "metadata": {
        "id": "Ir3UZo-Ziylb"
      },
      "execution_count": 16,
      "outputs": []
    },
    {
      "cell_type": "markdown",
      "source": [
        "## Estatísticas de texto"
      ],
      "metadata": {
        "id": "IqpLE2uuTGwn"
      }
    },
    {
      "cell_type": "markdown",
      "source": [
        "### Frequencia de tokens com N-Grams"
      ],
      "metadata": {
        "id": "e4ENojA3GUFM"
      }
    },
    {
      "cell_type": "markdown",
      "source": [
        "* Processamento de tokens"
      ],
      "metadata": {
        "id": "GRMQkpn7W0uR"
      }
    },
    {
      "cell_type": "code",
      "source": [
        "words = \" \".join(df['Limpeza_Regex2'])"
      ],
      "metadata": {
        "id": "j2KWaCF_GWCU"
      },
      "execution_count": 17,
      "outputs": []
    },
    {
      "cell_type": "markdown",
      "source": [
        "* Tokenizador pré treinado do nltk"
      ],
      "metadata": {
        "id": "F8lyFoPFTy1P"
      }
    },
    {
      "cell_type": "code",
      "source": [
        "nltk.download('punkt_tab')"
      ],
      "metadata": {
        "id": "GXymrv5QHI81"
      },
      "execution_count": null,
      "outputs": []
    },
    {
      "cell_type": "markdown",
      "source": [
        "* Separa o texto em tokens"
      ],
      "metadata": {
        "id": "ycdStkrWWj_4"
      }
    },
    {
      "cell_type": "code",
      "source": [
        "tokens = word_tokenize(words)"
      ],
      "metadata": {
        "id": "-Iymq7W3Gvse"
      },
      "execution_count": 19,
      "outputs": []
    },
    {
      "cell_type": "markdown",
      "source": [
        "* Unigrams"
      ],
      "metadata": {
        "id": "uogtF0ipT8fR"
      }
    },
    {
      "cell_type": "code",
      "source": [
        "unigrams = nltk.ngrams(tokens, 1)"
      ],
      "metadata": {
        "id": "qHzoaKAxT78a"
      },
      "execution_count": 20,
      "outputs": []
    },
    {
      "cell_type": "code",
      "source": [
        "print(Counter(unigrams).most_common(50))"
      ],
      "metadata": {
        "id": "WwW8Yg4HRhIB",
        "colab": {
          "base_uri": "https://localhost:8080/"
        },
        "outputId": "6180d1cc-c5d1-4d7a-eb8b-3adcfdcb96d5"
      },
      "execution_count": 21,
      "outputs": [
        {
          "output_type": "stream",
          "name": "stdout",
          "text": [
            "[(('video',), 13647), (('.',), 11722), (('extrato',), 10290), (('valor',), 9407), (('confirmar',), 4958), (('comprovante',), 4157), (('af',), 4078), (('documento',), 4006), (('$',), 3980), (('R',), 3945), (('cliente',), 3491), (('alteracao',), 3470), (('ok',), 3306), (('nao',), 3151), ((';',), 3099), (('seguir',), 2997), (('identificacao',), 2896), (('pmt',), 2870), (('12x',), 2845), (('print',), 2772), (('conforme',), 2736), (('contrato',), 2613), (('cred',), 2584), (('app',), 2436), (('pdf',), 2372), (('anexo',), 2330), (('pix',), 2263), (('master',), 1948), (('dia',), 1822), (('informacao',), 1747), (('saldo',), 1698), (('contar',), 1499), (('script',), 1456), (('validar',), 1400), (('detalhamento',), 1388), (('pendente',), 1384), (('validacao',), 1347), (('constar',), 1310), (('audio',), 1268), (('senhar',), 1250), (('vlr',), 1230), (('8x',), 1185), (('=',), 1176), (('proximo',), 1162), (('ctt',), 1156), (('3',), 1147), (('dado',), 1122), (('ultimo',), 1083), (('limite',), 1073), (('beneficio',), 1056)]\n"
          ]
        }
      ]
    },
    {
      "cell_type": "markdown",
      "source": [
        "* Bigrams"
      ],
      "metadata": {
        "id": "lbgeTGkzSmt7"
      }
    },
    {
      "cell_type": "code",
      "source": [
        "bigrams = nltk.ngrams(tokens, 2)"
      ],
      "metadata": {
        "id": "sc59nkwdSoDr"
      },
      "execution_count": 22,
      "outputs": []
    },
    {
      "cell_type": "code",
      "source": [
        "print(Counter(bigrams).most_common(50))"
      ],
      "metadata": {
        "id": "CTTrt8WeSuP7",
        "colab": {
          "base_uri": "https://localhost:8080/"
        },
        "outputId": "ca58bc35-0829-4185-8e87-fc7b27ae6e52"
      },
      "execution_count": 23,
      "outputs": [
        {
          "output_type": "stream",
          "name": "stdout",
          "text": [
            "[(('video', 'confirmar'), 4491), (('R', '$'), 3945), (('alteracao', 'valor'), 3321), (('confirmar', 'alteracao'), 3307), (('documento', 'identificacao'), 2796), (('.', 'video'), 2134), (('video', 'ok'), 2103), (('valor', 'video'), 2024), (('valor', 'af'), 2017), (('cred', 'pix'), 2009), (('extrato', 'pdf'), 1735), (('print', 'app'), 1724), (('seguir', 'pendente'), 1360), (('comprovante', 'cred'), 1219), (('vlr', 'pmt'), 1215), (('seguir', 'valor'), 1188), (('valor', 'conforme'), 1177), (('confirmar', 'valor'), 1176), (('af', 'R'), 1103), (('extrato', 'extrato'), 1053), (('senhar', 'master'), 1017), (('pdf', 'analisar'), 975), (('extrato', 'informacao'), 968), (('analisar', 'ok'), 919), (('conforme', 'script'), 918), (('ultimo', 'extrato'), 913), ((';', 'extrato'), 909), (('video', 'Confirmacoes'), 899), (('3', 'ultimo'), 883), (('12x', 'video'), 869), (('sujeito', 'reprovacao'), 842), (('dado', 'valor'), 827), (('pendente', 'proximo'), 807), (('video', 'video'), 803), (('.', '12x'), 794), (('.', 'extrato'), 775), (('frente', 'verso'), 769), (('aprovacao', 'senhar'), 739), (('extrato', 'padrao'), 704), (('proximo', 'analise'), 698), (('analise', 'sujeito'), 695), (('master', 'informacao'), 686), (('pmt', '12x'), 685), (('.', 'comprovante'), 684), (('12x', 'vlr'), 676), (('identificacao', 'frente'), 639), (('extrato', 'print'), 638), (('aceito', 'mediante'), 605), (('mediante', 'print'), 600), (('cheque', 'especial'), 595)]\n"
          ]
        }
      ]
    },
    {
      "cell_type": "markdown",
      "source": [
        "* Concatenar frases:\n",
        "\n",
        "  - Concatenar frase para valer como tokens únicos"
      ],
      "metadata": {
        "id": "YQh6Bs90SAbI"
      }
    },
    {
      "cell_type": "code",
      "source": [
        "def frases(texto):\n",
        "\n",
        "\n",
        "  # frase 1\n",
        "  texto = re.sub(r'alteracao valor', 'alteracao_valor', texto)\n",
        "  # frase 2\n",
        "  texto = re.sub(r'confirmar valor', 'confirmar_valor', texto)\n",
        "  # frase 3\n",
        "  texto = re.sub(r'documento identificacao', 'documento_identificacao', texto)\n",
        "  # frase 4\n",
        "  texto = re.sub(r'3 ultimo extrato', '3_ultimo_extrato', texto)\n",
        "  # frase 5\n",
        "  texto = re.sub(r'video ok', '', texto)\n",
        "  # frase 6\n",
        "  texto = re.sub(r'selfie legivel', '', texto)\n",
        "\n",
        "  return texto"
      ],
      "metadata": {
        "id": "GRmBxpHFOIfR"
      },
      "execution_count": 24,
      "outputs": []
    },
    {
      "cell_type": "code",
      "source": [
        "df['Limpeza_Regex2'] = df['Limpeza_Regex2'].apply( lambda x: frases(x))"
      ],
      "metadata": {
        "id": "GZJiEW89cQsQ"
      },
      "execution_count": 25,
      "outputs": []
    },
    {
      "cell_type": "markdown",
      "source": [
        "* Listar Palavras Chave para cada Tópico"
      ],
      "metadata": {
        "id": "wbsTvgK4adsV"
      }
    },
    {
      "cell_type": "code",
      "execution_count": 26,
      "metadata": {
        "id": "onjXOw7k8vmp"
      },
      "outputs": [],
      "source": [
        "palavras_topicos = {\n",
        "\n",
        "    'SELFIE': ['selfie'],\n",
        "    'ALTERAÇÃO DE VALORES': ['alteracao_valor','confirmar_valor','alteracao', 'alteracoes'],\n",
        "    'DOCUMENTOS': ['documento_identificacao','3_ultimo_extrato','contrato','extrato','comprovante','documento','detalhamento','print','copia','autorizar','pdf','pdfer','legivel','extrato'],\n",
        "    'VÍDEO/ÁUDIO PENDENTE': ['script','inaudivel','audio','gravacao','video']}\n"
      ]
    },
    {
      "cell_type": "markdown",
      "source": [
        "* Classificação de texto simples baseada em Palavras Chave\n",
        "\n",
        "  - A ordem dos tópicos importa para a classificação.\n",
        "  - É importante qual tópico é mais importante, em caso de multiplos motivos."
      ],
      "metadata": {
        "id": "03aln-Wkaj0U"
      }
    },
    {
      "cell_type": "code",
      "execution_count": 27,
      "metadata": {
        "id": "CWwITNcUHrE0"
      },
      "outputs": [],
      "source": [
        "def atribuir_topico_com_palavras_chave(texto, palavras_topicos):\n",
        "    for i, (topico, palavras) in enumerate(palavras_topicos.items()):\n",
        "        if any(palavra in texto for palavra in palavras):\n",
        "            return topico  # Retorna o tópico\n",
        "    return  'DOCUMENTOS'"
      ]
    },
    {
      "cell_type": "code",
      "source": [
        "# Criar coluna de rótulo\n",
        "df[\"rótulo_tópico\"] = df[\"Limpeza_Regex2\"].apply(lambda x: atribuir_topico_com_palavras_chave(x, palavras_topicos))"
      ],
      "metadata": {
        "id": "K53iX2vGcqo8"
      },
      "execution_count": 28,
      "outputs": []
    },
    {
      "cell_type": "markdown",
      "source": [
        "* Data Frame Head"
      ],
      "metadata": {
        "id": "IikGG-TGHZ4N"
      }
    },
    {
      "cell_type": "code",
      "source": [
        "df[['obs','Limpeza_Regex2','rótulo_tópico']].head(5)"
      ],
      "metadata": {
        "colab": {
          "base_uri": "https://localhost:8080/",
          "height": 206
        },
        "id": "n-Uxj41WHgFX",
        "outputId": "61b2c51c-a8f9-4663-ae4c-02da63cfa726"
      },
      "execution_count": 35,
      "outputs": [
        {
          "output_type": "execute_result",
          "data": {
            "text/plain": [
              "                                                 obs  \\\n",
              "0  ENVIAR OS 3 ÚLTIMOS EXTRATOS COMPLETOS, CONTIN...   \n",
              "1  _x000D_\\nENVIAR NOVO VIDEO CONFIRMANDO ALTERAÇ...   \n",
              "2  ENVIAR COMPROVANTE DE RENDA/DETALHAMENTO_x000D...   \n",
              "3  ENVIAR  EXTRATO_x000D_\\n_x000D_\\n>>_x000D_\\n_x...   \n",
              "4  ENVIAR DOCUMENTO DE IDENTIFICAÇÃO_x000D_\\n_x00...   \n",
              "\n",
              "                                      Limpeza_Regex2         rótulo_tópico  \n",
              "0   3_ultimo_extrato completo continuo Cortes Cal...            DOCUMENTOS  \n",
              "1   video confirmar alteracao_valor extrato extra...  ALTERAÇÃO DE VALORES  \n",
              "2   comprovante renda detalhamento 3_ultimo_extra...            DOCUMENTOS  \n",
              "3   extrato limite cheque especial extrato outubr...            DOCUMENTOS  \n",
              "4   documento_identificacao extrato documento_ide...            DOCUMENTOS  "
            ],
            "text/html": [
              "\n",
              "  <div id=\"df-ae8d232e-7803-4e6f-8a55-1ee9c4a42168\" class=\"colab-df-container\">\n",
              "    <div>\n",
              "<style scoped>\n",
              "    .dataframe tbody tr th:only-of-type {\n",
              "        vertical-align: middle;\n",
              "    }\n",
              "\n",
              "    .dataframe tbody tr th {\n",
              "        vertical-align: top;\n",
              "    }\n",
              "\n",
              "    .dataframe thead th {\n",
              "        text-align: right;\n",
              "    }\n",
              "</style>\n",
              "<table border=\"1\" class=\"dataframe\">\n",
              "  <thead>\n",
              "    <tr style=\"text-align: right;\">\n",
              "      <th></th>\n",
              "      <th>obs</th>\n",
              "      <th>Limpeza_Regex2</th>\n",
              "      <th>rótulo_tópico</th>\n",
              "    </tr>\n",
              "  </thead>\n",
              "  <tbody>\n",
              "    <tr>\n",
              "      <th>0</th>\n",
              "      <td>ENVIAR OS 3 ÚLTIMOS EXTRATOS COMPLETOS, CONTIN...</td>\n",
              "      <td>3_ultimo_extrato completo continuo Cortes Cal...</td>\n",
              "      <td>DOCUMENTOS</td>\n",
              "    </tr>\n",
              "    <tr>\n",
              "      <th>1</th>\n",
              "      <td>_x000D_\\nENVIAR NOVO VIDEO CONFIRMANDO ALTERAÇ...</td>\n",
              "      <td>video confirmar alteracao_valor extrato extra...</td>\n",
              "      <td>ALTERAÇÃO DE VALORES</td>\n",
              "    </tr>\n",
              "    <tr>\n",
              "      <th>2</th>\n",
              "      <td>ENVIAR COMPROVANTE DE RENDA/DETALHAMENTO_x000D...</td>\n",
              "      <td>comprovante renda detalhamento 3_ultimo_extra...</td>\n",
              "      <td>DOCUMENTOS</td>\n",
              "    </tr>\n",
              "    <tr>\n",
              "      <th>3</th>\n",
              "      <td>ENVIAR  EXTRATO_x000D_\\n_x000D_\\n&gt;&gt;_x000D_\\n_x...</td>\n",
              "      <td>extrato limite cheque especial extrato outubr...</td>\n",
              "      <td>DOCUMENTOS</td>\n",
              "    </tr>\n",
              "    <tr>\n",
              "      <th>4</th>\n",
              "      <td>ENVIAR DOCUMENTO DE IDENTIFICAÇÃO_x000D_\\n_x00...</td>\n",
              "      <td>documento_identificacao extrato documento_ide...</td>\n",
              "      <td>DOCUMENTOS</td>\n",
              "    </tr>\n",
              "  </tbody>\n",
              "</table>\n",
              "</div>\n",
              "    <div class=\"colab-df-buttons\">\n",
              "\n",
              "  <div class=\"colab-df-container\">\n",
              "    <button class=\"colab-df-convert\" onclick=\"convertToInteractive('df-ae8d232e-7803-4e6f-8a55-1ee9c4a42168')\"\n",
              "            title=\"Convert this dataframe to an interactive table.\"\n",
              "            style=\"display:none;\">\n",
              "\n",
              "  <svg xmlns=\"http://www.w3.org/2000/svg\" height=\"24px\" viewBox=\"0 -960 960 960\">\n",
              "    <path d=\"M120-120v-720h720v720H120Zm60-500h600v-160H180v160Zm220 220h160v-160H400v160Zm0 220h160v-160H400v160ZM180-400h160v-160H180v160Zm440 0h160v-160H620v160ZM180-180h160v-160H180v160Zm440 0h160v-160H620v160Z\"/>\n",
              "  </svg>\n",
              "    </button>\n",
              "\n",
              "  <style>\n",
              "    .colab-df-container {\n",
              "      display:flex;\n",
              "      gap: 12px;\n",
              "    }\n",
              "\n",
              "    .colab-df-convert {\n",
              "      background-color: #E8F0FE;\n",
              "      border: none;\n",
              "      border-radius: 50%;\n",
              "      cursor: pointer;\n",
              "      display: none;\n",
              "      fill: #1967D2;\n",
              "      height: 32px;\n",
              "      padding: 0 0 0 0;\n",
              "      width: 32px;\n",
              "    }\n",
              "\n",
              "    .colab-df-convert:hover {\n",
              "      background-color: #E2EBFA;\n",
              "      box-shadow: 0px 1px 2px rgba(60, 64, 67, 0.3), 0px 1px 3px 1px rgba(60, 64, 67, 0.15);\n",
              "      fill: #174EA6;\n",
              "    }\n",
              "\n",
              "    .colab-df-buttons div {\n",
              "      margin-bottom: 4px;\n",
              "    }\n",
              "\n",
              "    [theme=dark] .colab-df-convert {\n",
              "      background-color: #3B4455;\n",
              "      fill: #D2E3FC;\n",
              "    }\n",
              "\n",
              "    [theme=dark] .colab-df-convert:hover {\n",
              "      background-color: #434B5C;\n",
              "      box-shadow: 0px 1px 3px 1px rgba(0, 0, 0, 0.15);\n",
              "      filter: drop-shadow(0px 1px 2px rgba(0, 0, 0, 0.3));\n",
              "      fill: #FFFFFF;\n",
              "    }\n",
              "  </style>\n",
              "\n",
              "    <script>\n",
              "      const buttonEl =\n",
              "        document.querySelector('#df-ae8d232e-7803-4e6f-8a55-1ee9c4a42168 button.colab-df-convert');\n",
              "      buttonEl.style.display =\n",
              "        google.colab.kernel.accessAllowed ? 'block' : 'none';\n",
              "\n",
              "      async function convertToInteractive(key) {\n",
              "        const element = document.querySelector('#df-ae8d232e-7803-4e6f-8a55-1ee9c4a42168');\n",
              "        const dataTable =\n",
              "          await google.colab.kernel.invokeFunction('convertToInteractive',\n",
              "                                                    [key], {});\n",
              "        if (!dataTable) return;\n",
              "\n",
              "        const docLinkHtml = 'Like what you see? Visit the ' +\n",
              "          '<a target=\"_blank\" href=https://colab.research.google.com/notebooks/data_table.ipynb>data table notebook</a>'\n",
              "          + ' to learn more about interactive tables.';\n",
              "        element.innerHTML = '';\n",
              "        dataTable['output_type'] = 'display_data';\n",
              "        await google.colab.output.renderOutput(dataTable, element);\n",
              "        const docLink = document.createElement('div');\n",
              "        docLink.innerHTML = docLinkHtml;\n",
              "        element.appendChild(docLink);\n",
              "      }\n",
              "    </script>\n",
              "  </div>\n",
              "\n",
              "\n",
              "    <div id=\"df-a0db21da-b3fd-47b7-a350-0987a5911f91\">\n",
              "      <button class=\"colab-df-quickchart\" onclick=\"quickchart('df-a0db21da-b3fd-47b7-a350-0987a5911f91')\"\n",
              "                title=\"Suggest charts\"\n",
              "                style=\"display:none;\">\n",
              "\n",
              "<svg xmlns=\"http://www.w3.org/2000/svg\" height=\"24px\"viewBox=\"0 0 24 24\"\n",
              "     width=\"24px\">\n",
              "    <g>\n",
              "        <path d=\"M19 3H5c-1.1 0-2 .9-2 2v14c0 1.1.9 2 2 2h14c1.1 0 2-.9 2-2V5c0-1.1-.9-2-2-2zM9 17H7v-7h2v7zm4 0h-2V7h2v10zm4 0h-2v-4h2v4z\"/>\n",
              "    </g>\n",
              "</svg>\n",
              "      </button>\n",
              "\n",
              "<style>\n",
              "  .colab-df-quickchart {\n",
              "      --bg-color: #E8F0FE;\n",
              "      --fill-color: #1967D2;\n",
              "      --hover-bg-color: #E2EBFA;\n",
              "      --hover-fill-color: #174EA6;\n",
              "      --disabled-fill-color: #AAA;\n",
              "      --disabled-bg-color: #DDD;\n",
              "  }\n",
              "\n",
              "  [theme=dark] .colab-df-quickchart {\n",
              "      --bg-color: #3B4455;\n",
              "      --fill-color: #D2E3FC;\n",
              "      --hover-bg-color: #434B5C;\n",
              "      --hover-fill-color: #FFFFFF;\n",
              "      --disabled-bg-color: #3B4455;\n",
              "      --disabled-fill-color: #666;\n",
              "  }\n",
              "\n",
              "  .colab-df-quickchart {\n",
              "    background-color: var(--bg-color);\n",
              "    border: none;\n",
              "    border-radius: 50%;\n",
              "    cursor: pointer;\n",
              "    display: none;\n",
              "    fill: var(--fill-color);\n",
              "    height: 32px;\n",
              "    padding: 0;\n",
              "    width: 32px;\n",
              "  }\n",
              "\n",
              "  .colab-df-quickchart:hover {\n",
              "    background-color: var(--hover-bg-color);\n",
              "    box-shadow: 0 1px 2px rgba(60, 64, 67, 0.3), 0 1px 3px 1px rgba(60, 64, 67, 0.15);\n",
              "    fill: var(--button-hover-fill-color);\n",
              "  }\n",
              "\n",
              "  .colab-df-quickchart-complete:disabled,\n",
              "  .colab-df-quickchart-complete:disabled:hover {\n",
              "    background-color: var(--disabled-bg-color);\n",
              "    fill: var(--disabled-fill-color);\n",
              "    box-shadow: none;\n",
              "  }\n",
              "\n",
              "  .colab-df-spinner {\n",
              "    border: 2px solid var(--fill-color);\n",
              "    border-color: transparent;\n",
              "    border-bottom-color: var(--fill-color);\n",
              "    animation:\n",
              "      spin 1s steps(1) infinite;\n",
              "  }\n",
              "\n",
              "  @keyframes spin {\n",
              "    0% {\n",
              "      border-color: transparent;\n",
              "      border-bottom-color: var(--fill-color);\n",
              "      border-left-color: var(--fill-color);\n",
              "    }\n",
              "    20% {\n",
              "      border-color: transparent;\n",
              "      border-left-color: var(--fill-color);\n",
              "      border-top-color: var(--fill-color);\n",
              "    }\n",
              "    30% {\n",
              "      border-color: transparent;\n",
              "      border-left-color: var(--fill-color);\n",
              "      border-top-color: var(--fill-color);\n",
              "      border-right-color: var(--fill-color);\n",
              "    }\n",
              "    40% {\n",
              "      border-color: transparent;\n",
              "      border-right-color: var(--fill-color);\n",
              "      border-top-color: var(--fill-color);\n",
              "    }\n",
              "    60% {\n",
              "      border-color: transparent;\n",
              "      border-right-color: var(--fill-color);\n",
              "    }\n",
              "    80% {\n",
              "      border-color: transparent;\n",
              "      border-right-color: var(--fill-color);\n",
              "      border-bottom-color: var(--fill-color);\n",
              "    }\n",
              "    90% {\n",
              "      border-color: transparent;\n",
              "      border-bottom-color: var(--fill-color);\n",
              "    }\n",
              "  }\n",
              "</style>\n",
              "\n",
              "      <script>\n",
              "        async function quickchart(key) {\n",
              "          const quickchartButtonEl =\n",
              "            document.querySelector('#' + key + ' button');\n",
              "          quickchartButtonEl.disabled = true;  // To prevent multiple clicks.\n",
              "          quickchartButtonEl.classList.add('colab-df-spinner');\n",
              "          try {\n",
              "            const charts = await google.colab.kernel.invokeFunction(\n",
              "                'suggestCharts', [key], {});\n",
              "          } catch (error) {\n",
              "            console.error('Error during call to suggestCharts:', error);\n",
              "          }\n",
              "          quickchartButtonEl.classList.remove('colab-df-spinner');\n",
              "          quickchartButtonEl.classList.add('colab-df-quickchart-complete');\n",
              "        }\n",
              "        (() => {\n",
              "          let quickchartButtonEl =\n",
              "            document.querySelector('#df-a0db21da-b3fd-47b7-a350-0987a5911f91 button');\n",
              "          quickchartButtonEl.style.display =\n",
              "            google.colab.kernel.accessAllowed ? 'block' : 'none';\n",
              "        })();\n",
              "      </script>\n",
              "    </div>\n",
              "\n",
              "    </div>\n",
              "  </div>\n"
            ],
            "application/vnd.google.colaboratory.intrinsic+json": {
              "type": "dataframe",
              "summary": "{\n  \"name\": \"df[['obs','Limpeza_Regex2','r\\u00f3tulo_t\\u00f3pico']]\",\n  \"rows\": 5,\n  \"fields\": [\n    {\n      \"column\": \"obs\",\n      \"properties\": {\n        \"dtype\": \"string\",\n        \"num_unique_values\": 5,\n        \"samples\": [\n          \"_x000D_\\nENVIAR NOVO VIDEO CONFIRMANDO ALTERA\\u00c7\\u00c3O DE VALORES_x000D_\\n_x000D_\\n>>_x000D_\\n_x000D_\\nENVIAR EXTRATO_x000D_\\n_x000D_\\n>>_x000D_\\n_x000D_\\n*FAVOR ANEXAR EXTRATO DE NOVEMBRO COM RECEBIMENTO DO BENEF\\u00cdCIO._x000D_\\n_x000D_\\n*FAVOR ANEXAR NOVO VIDEO CONFIRMANDO ALTERA\\u00c7\\u00c3O DE VALORES CONFORME MARGEM DISPONIVEL. SUJEITO A NOVAS ALTERA\\u00c7\\u00d5ES AP\\u00d3S PEND\\u00caNCIAS_x000D_\\n_x000D_\\nNOVO 8X_x000D_\\nPMT: 383,15_x000D_\\nLIQUIDO: 1102,04\",\n          \"ENVIAR DOCUMENTO DE IDENTIFICA\\u00c7\\u00c3O_x000D_\\n_x000D_\\n>>_x000D_\\n_x000D_\\nENVIAR  EXTRATO_x000D_\\n_x000D_\\n>>_x000D_\\n_x000D_\\n*FAVOR ANEXAR DOCUMENTO DE IDENTIFICA\\u00c7\\u00c3O DO BENEFICIARIO_x000D_\\n_x000D_\\n*ANEXAR EXTRATO DE NOVEMBRO DO PER\\u00cdODO COMPLETO._x000D_\\n_x000D_\\n*VIDEO OK_x000D_\\n_x000D_\\nNOVO 12X_x000D_\\nPMT: 727,71_x000D_\\nLIQUIDO: 3000,04_x000D_\\n\",\n          \"ENVIAR COMPROVANTE DE RENDA/DETALHAMENTO_x000D_\\n_x000D_\\n>>_x000D_\\n_x000D_\\nENVIAR OS 3 \\u00daLTIMOS EXTRATOS_x000D_\\n_x000D_\\n>>_x000D_\\n_x000D_\\n*SEGUE PENDENTE, PR\\u00d3XIMA AN\\u00c1LISE SUJEITA A REPROVA\\u00c7\\u00c3O*_x000D_\\n_x000D_\\n*ARQUIVOS ENVIADOS NOVAMENTE S\\u00c3O FOTO DA TELA DO CELULAR QUE RECORTARAM EM VOLTA, PARA SEGUIR COM A OPERA\\u00c7\\u00c3O, SOMENTE COM OS PRINTS DOS EXTRATOS, JUNTAMENTE COM A TELA INICIAL, CONSTANDO DADOS E CONTA DO CLIENTE OU EXTRATOS EM PDF VIA LOGIN MASTER E DCB._x000D_\\n_x000D_\\nNOVO 12X_x000D_\\nPMT: 121,29_x000D_\\nLIQUIDO: 500,03_x000D_\\n\"\n        ],\n        \"semantic_type\": \"\",\n        \"description\": \"\"\n      }\n    },\n    {\n      \"column\": \"Limpeza_Regex2\",\n      \"properties\": {\n        \"dtype\": \"string\",\n        \"num_unique_values\": 5,\n        \"samples\": [\n          \" video confirmar alteracao_valor extrato extrato novembro recebimento beneficio . video confirmar alteracao_valor conforme margem disponivel . sujeitar alteracoes apo pendencia 8x\",\n          \" documento_identificacao extrato documento_identificacao beneficiario extrato novembro periodo completo .  12x\",\n          \" comprovante renda detalhamento 3_ultimo_extrato seguir pendente proximo analise sujeito reprovacao arquivo novamente sao foto tela celular recortarar volta seguir operacao prints extrato juntamente tela inicial constar dar contar cliente extrato pdf ver login master dcb . 12x\"\n        ],\n        \"semantic_type\": \"\",\n        \"description\": \"\"\n      }\n    },\n    {\n      \"column\": \"r\\u00f3tulo_t\\u00f3pico\",\n      \"properties\": {\n        \"dtype\": \"category\",\n        \"num_unique_values\": 2,\n        \"samples\": [\n          \"ALTERA\\u00c7\\u00c3O DE VALORES\",\n          \"DOCUMENTOS\"\n        ],\n        \"semantic_type\": \"\",\n        \"description\": \"\"\n      }\n    }\n  ]\n}"
            }
          },
          "metadata": {},
          "execution_count": 35
        }
      ]
    },
    {
      "cell_type": "markdown",
      "source": [
        "* DF para Excel"
      ],
      "metadata": {
        "id": "FfkLSV3xi-GC"
      }
    },
    {
      "cell_type": "code",
      "execution_count": 30,
      "metadata": {
        "id": "1pd1STs6Iq49"
      },
      "outputs": [],
      "source": [
        "df.to_excel('Pendencias.xlsx', index=False)"
      ]
    },
    {
      "cell_type": "markdown",
      "source": [
        "* Download"
      ],
      "metadata": {
        "id": "9IMiY7smjCVz"
      }
    },
    {
      "cell_type": "code",
      "execution_count": 31,
      "metadata": {
        "id": "s3utRkjSKobN",
        "colab": {
          "base_uri": "https://localhost:8080/",
          "height": 17
        },
        "outputId": "96a8876d-59e1-4343-f1dd-3189121d7782"
      },
      "outputs": [
        {
          "output_type": "display_data",
          "data": {
            "text/plain": [
              "<IPython.core.display.Javascript object>"
            ],
            "application/javascript": [
              "\n",
              "    async function download(id, filename, size) {\n",
              "      if (!google.colab.kernel.accessAllowed) {\n",
              "        return;\n",
              "      }\n",
              "      const div = document.createElement('div');\n",
              "      const label = document.createElement('label');\n",
              "      label.textContent = `Downloading \"${filename}\": `;\n",
              "      div.appendChild(label);\n",
              "      const progress = document.createElement('progress');\n",
              "      progress.max = size;\n",
              "      div.appendChild(progress);\n",
              "      document.body.appendChild(div);\n",
              "\n",
              "      const buffers = [];\n",
              "      let downloaded = 0;\n",
              "\n",
              "      const channel = await google.colab.kernel.comms.open(id);\n",
              "      // Send a message to notify the kernel that we're ready.\n",
              "      channel.send({})\n",
              "\n",
              "      for await (const message of channel.messages) {\n",
              "        // Send a message to notify the kernel that we're ready.\n",
              "        channel.send({})\n",
              "        if (message.buffers) {\n",
              "          for (const buffer of message.buffers) {\n",
              "            buffers.push(buffer);\n",
              "            downloaded += buffer.byteLength;\n",
              "            progress.value = downloaded;\n",
              "          }\n",
              "        }\n",
              "      }\n",
              "      const blob = new Blob(buffers, {type: 'application/binary'});\n",
              "      const a = document.createElement('a');\n",
              "      a.href = window.URL.createObjectURL(blob);\n",
              "      a.download = filename;\n",
              "      div.appendChild(a);\n",
              "      a.click();\n",
              "      div.remove();\n",
              "    }\n",
              "  "
            ]
          },
          "metadata": {}
        },
        {
          "output_type": "display_data",
          "data": {
            "text/plain": [
              "<IPython.core.display.Javascript object>"
            ],
            "application/javascript": [
              "download(\"download_8998a855-3548-4a95-bec9-25adcb0906bc\", \"Pendencias.xlsx\", 3449090)"
            ]
          },
          "metadata": {}
        }
      ],
      "source": [
        "files.download('Pendencias.xlsx')"
      ]
    }
  ],
  "metadata": {
    "colab": {
      "provenance": []
    },
    "kernelspec": {
      "display_name": "Python 3",
      "name": "python3"
    }
  },
  "nbformat": 4,
  "nbformat_minor": 0
}
